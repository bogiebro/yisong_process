{
 "cells": [
  {
   "cell_type": "code",
   "execution_count": 1,
   "id": "911613f0",
   "metadata": {
    "ExecuteTime": {
     "end_time": "2021-11-17T19:44:57.317836Z",
     "start_time": "2021-11-17T19:44:56.424608Z"
    }
   },
   "outputs": [],
   "source": [
    "import torch\n",
    "import torch.nn.functional as F\n",
    "from torch.distributions import constraints\n",
    "\n",
    "import pyro\n",
    "import pyro.distributions as dist\n",
    "from pyro.infer import Predictive, SVI, Trace_ELBO, TraceGraph_ELBO\n",
    "from pyro.optim import Adam\n",
    "from pyro import poutine\n",
    "\n",
    "from gpytorch.kernels import RBFKernel, ScaleKernel\n",
    "import gpytorch.distributions as gdist\n",
    "import gpytorch as gp\n",
    "\n",
    "import matplotlib.pyplot as plt\n",
    "import matplotlib\n",
    "import graphviz\n",
    "import pdb\n",
    "from pmextract import extract"
   ]
  },
  {
   "cell_type": "markdown",
   "id": "17d69b23",
   "metadata": {},
   "source": [
    "## Bayesian Library Learning"
   ]
  },
  {
   "cell_type": "markdown",
   "id": "313bb1ae",
   "metadata": {},
   "source": [
    "We are given timeseries observations $x_i^t$, where the subscript $i$ indicates a random variable and superscript $t$ indicates a discrete time step. We want to find a small set of stochastic functions $f_1, f_2, \\dotsc$ such that each $x_i^t$ is the result of applying some $f_j$ to variables $X_k^l$, where $l < t$. "
   ]
  },
  {
   "cell_type": "markdown",
   "id": "a0df3196",
   "metadata": {},
   "source": [
    "We can approach the problem using Bayesian nonparametrics, and assume that the function generating each variable is sampled from a Dirichlet process prior. Let $z_i^t$ be the index of the function that generates observation $x_i^t$. Our model can be summarized as follows:"
   ]
  },
  {
   "cell_type": "markdown",
   "id": "3c7e62de",
   "metadata": {},
   "source": [
    "$$\n",
    "\\begin{align*}\n",
    "z_i^t &\\sim \\text{Dirichlet Process}(\\gamma) \\\\\n",
    "\\theta_{z_i^t} &\\sim \\text{Dirichlet}(1, 1, \\dotsc) \\\\ \n",
    "a_i^t(n) &\\sim \\text{Dirichlet Process}(\\alpha) \\\\\n",
    "b_i^t &\\sim \\text{Categorical}(\\theta_{z_i^t}) \\\\\n",
    "f_n &\\sim \\text{Gaussian Process}(\\mu, \\Sigma) \\\\ \n",
    "x_i^t &\\sim f_{z_i^t}\\left(x_{b_i^t(1)}^{a_i^t(1)}, x_{b_i^t(2)}^{a_i^t(2)}, \\dotsc\\right)\n",
    "\\end{align*}\n",
    "$$"
   ]
  },
  {
   "cell_type": "code",
   "execution_count": 2,
   "id": "b19cc73c",
   "metadata": {
    "ExecuteTime": {
     "end_time": "2021-11-17T19:45:09.367969Z",
     "start_time": "2021-11-17T19:45:09.340754Z"
    }
   },
   "outputs": [],
   "source": [
    "G = 3 # max number of functions in variational posterior\n",
    "A = 2 # max number of arguments per function\n",
    "γ = 1.0 # concentration parameter for function DP\n",
    "α = 1.0 # concentration parameter for how old your args should be"
   ]
  },
  {
   "cell_type": "code",
   "execution_count": 3,
   "id": "ce43d236",
   "metadata": {
    "ExecuteTime": {
     "end_time": "2021-11-17T19:45:09.392789Z",
     "start_time": "2021-11-17T19:45:09.370757Z"
    }
   },
   "outputs": [],
   "source": [
    "def mix_weights(beta):\n",
    "    \"Turn iid Beta samples into the weights of a categorical (Stick Breaking DP)\"\n",
    "    beta1m_cumprod = (1 - beta).cumprod(-1)\n",
    "    return F.pad(beta, (0, 1), value=1) * F.pad(beta1m_cumprod, (1, 0), value=1)"
   ]
  },
  {
   "cell_type": "markdown",
   "id": "3849b57d",
   "metadata": {},
   "source": [
    "Time weights should be a diagonal matrix. \n",
    "Can we make constraints like that?"
   ]
  },
  {
   "cell_type": "code",
   "execution_count": 4,
   "id": "2f86a991",
   "metadata": {
    "ExecuteTime": {
     "end_time": "2021-11-17T19:45:09.419370Z",
     "start_time": "2021-11-17T19:45:09.394857Z"
    }
   },
   "outputs": [],
   "source": [
    "def model(T, M):\n",
    "    \"Sample a Yisong process for T timesteps and M variables\"\n",
    "    N = (T-1) * M\n",
    "    with pyro.plate(\"Beta\", G-1):\n",
    "        beta = pyro.sample(\"beta\", dist.Beta(1, γ))\n",
    "    obs = pyro.plate(\"obs\", N, dim=-1)\n",
    "    with obs:\n",
    "        z = pyro.sample(\"z\", dist.Categorical(mix_weights(beta).unsqueeze(-2)))\n",
    "    with pyro.plate(\"Beta2\", T - 2):\n",
    "        arg_beta = pyro.sample(\"beta2\", dist.Beta(1, α))\n",
    "    with pyro.plate(\"functions\", G):\n",
    "        θ = pyro.sample(\"θ\", dist.Dirichlet(torch.ones(M)))\n",
    "    time_stack = [F.pad(mix_weights(arg_beta[..., :i]), (0, T - i - 1)) for i in range(T-1)]\n",
    "    time_weights = torch.stack(time_stack, dim=-2)\n",
    "    with obs as varindex:\n",
    "        t = varindex.div(M, rounding_mode='trunc')\n",
    "        with pyro.plate(\"nth_arg\", A):\n",
    "            full_time_weights = time_weights[...,t,:]\n",
    "            # 21(batch) x 1(arg) x 18(obs) x 3(time options)\n",
    "            a = pyro.sample(\"a\", dist.Categorical(full_time_weights))\n",
    "            expanded_z = z.unsqueeze(-1).expand((*z.shape, M))\n",
    "            var_weights = θ.gather(-2, expanded_z)\n",
    "            b = pyro.sample(\"b\", dist.Categorical(var_weights))\n",
    "        return z, a, b"
   ]
  },
  {
   "cell_type": "markdown",
   "id": "b9e4c869",
   "metadata": {},
   "source": [
    "## Function Definitions"
   ]
  },
  {
   "cell_type": "markdown",
   "id": "331e5dcc",
   "metadata": {},
   "source": [
    "The choice of functions $f_i$ is arbitrary. Here, I experiment with using Gaussian Processes, but it would be easy to substiute neural nets or contingency tables. Neural nets have been used as leaf nodes in mixture models with VMP inference; I'm not sure if Pyro's ADVI would work quite as well. GPs seem like an easier starting point. "
   ]
  },
  {
   "cell_type": "code",
   "execution_count": 5,
   "id": "0bf233f0",
   "metadata": {
    "ExecuteTime": {
     "end_time": "2021-11-17T19:45:23.688336Z",
     "start_time": "2021-11-17T19:45:23.668707Z"
    }
   },
   "outputs": [],
   "source": [
    "class GPKernel(torch.nn.Module):\n",
    "    def __init__(self):\n",
    "        super().__init__()\n",
    "        self.kernel = ScaleKernel(RBFKernel())\n",
    "    def forward(self, *args):\n",
    "        return self.kernel(*args)"
   ]
  },
  {
   "cell_type": "code",
   "execution_count": 6,
   "id": "074cbf70",
   "metadata": {
    "ExecuteTime": {
     "end_time": "2021-11-17T19:45:23.714031Z",
     "start_time": "2021-11-17T19:45:23.691179Z"
    }
   },
   "outputs": [],
   "source": [
    "kernel = GPKernel()"
   ]
  },
  {
   "cell_type": "markdown",
   "id": "67f30a13",
   "metadata": {},
   "source": [
    "## Yisong Process Likelihood"
   ]
  },
  {
   "cell_type": "code",
   "execution_count": 7,
   "id": "bc16ed29",
   "metadata": {
    "ExecuteTime": {
     "end_time": "2021-11-17T19:45:23.740799Z",
     "start_time": "2021-11-17T19:45:23.717154Z"
    }
   },
   "outputs": [],
   "source": [
    "def likelihood(data):\n",
    "    pyro.module(\"kernel\", kernel)\n",
    "    T, M = data.shape # timesteps by variables\n",
    "    z, a, b = model(T, M)\n",
    "    gp_in = data[a, b].transpose(-1, -2)\n",
    "    gp_out = data[:-1].view(-1).unsqueeze(-2).unsqueeze(-2).unsqueeze(-2)\n",
    "    k_xx = kernel(gp_in).add_diag(torch.tensor(0.1))\n",
    "    mu = pyro.param(\"mu\", lambda: torch.randn(G))\n",
    "    gp = gdist.MultivariateNormal(mu[z].unsqueeze(-2), k_xx.unsqueeze(-3).unsqueeze(-3))\n",
    "    pyro.sample(f\"data\", gp, obs=gp_out.expand(gp.shape()))"
   ]
  },
  {
   "cell_type": "markdown",
   "id": "98bdd5eb",
   "metadata": {
    "heading_collapsed": true
   },
   "source": [
    "## Generate Fake Function Data"
   ]
  },
  {
   "cell_type": "markdown",
   "id": "b14c9a9e",
   "metadata": {
    "hidden": true
   },
   "source": [
    "This class allows us to construct the function values one at a time. \n",
    "TODO: optimize this"
   ]
  },
  {
   "cell_type": "code",
   "execution_count": 8,
   "id": "f57cfef7",
   "metadata": {
    "ExecuteTime": {
     "end_time": "2021-11-17T19:45:30.984859Z",
     "start_time": "2021-11-17T19:45:30.960111Z"
    },
    "hidden": true
   },
   "outputs": [],
   "source": [
    "class IncrementalGP:\n",
    "    def __init__(self):\n",
    "        self.samples = []\n",
    "        self.inputs = []\n",
    "        self.k_xx = None\n",
    "        self.diag = gp.lazy.DiagLazyTensor(torch.ones(1))\n",
    "        self.orig_mean = torch.randn(1) * 2\n",
    "        \n",
    "    def sample(self, s):\n",
    "        if self.k_xx is None:\n",
    "            sample = torch.randn(1)\n",
    "            self.k_xx = self.diag\n",
    "        else:\n",
    "            k_sx = kernel(s.unsqueeze(0), torch.stack(self.inputs))\n",
    "            covar = 1.0 - self.k_xx.inv_quad(k_sx[0])\n",
    "            mean = self.orig_mean + k_sx @ self.k_xx.inv_matmul(torch.tensor(self.samples))\n",
    "            sample = (mean + torch.randn(1) * covar).detach()\n",
    "            self.k_xx = self.k_xx.cat_rows(k_sx, self.diag)\n",
    "        self.samples.append(sample)\n",
    "        self.inputs.append(s)\n",
    "        return sample"
   ]
  },
  {
   "cell_type": "markdown",
   "id": "ca5f1d1a",
   "metadata": {
    "hidden": true
   },
   "source": [
    "### Example"
   ]
  },
  {
   "cell_type": "code",
   "execution_count": 13,
   "id": "5225cbab",
   "metadata": {
    "ExecuteTime": {
     "end_time": "2021-11-15T19:50:36.791097Z",
     "start_time": "2021-11-15T19:50:36.777815Z"
    },
    "hidden": true
   },
   "outputs": [],
   "source": [
    "igp = IncrementalGP()"
   ]
  },
  {
   "cell_type": "code",
   "execution_count": 19,
   "id": "ace611e8",
   "metadata": {
    "ExecuteTime": {
     "end_time": "2021-11-15T19:51:30.494281Z",
     "start_time": "2021-11-15T19:51:22.929571Z"
    },
    "hidden": true
   },
   "outputs": [],
   "source": [
    "samples = torch.cat([igp.sample(torch.tensor(i/10).float()) for i in range(40)])"
   ]
  },
  {
   "cell_type": "code",
   "execution_count": 20,
   "id": "17bdf684",
   "metadata": {
    "ExecuteTime": {
     "end_time": "2021-11-15T19:51:31.324268Z",
     "start_time": "2021-11-15T19:51:31.229664Z"
    },
    "hidden": true
   },
   "outputs": [
    {
     "data": {
      "text/plain": [
       "<matplotlib.collections.PathCollection at 0x7f80b40f8e20>"
      ]
     },
     "execution_count": 20,
     "metadata": {},
     "output_type": "execute_result"
    },
    {
     "data": {
      "image/png": "[encoded data removed]",
      "text/plain": [
       "<Figure size 432x288 with 1 Axes>"
      ]
     },
     "metadata": {
      "needs_background": "light"
     },
     "output_type": "display_data"
    }
   ],
   "source": [
    "plt.scatter(torch.arange(40), samples)"
   ]
  },
  {
   "cell_type": "markdown",
   "id": "c58f29e7",
   "metadata": {},
   "source": [
    "## Generate Fake Yisong Process Data"
   ]
  },
  {
   "cell_type": "code",
   "execution_count": 9,
   "id": "1f4047d8",
   "metadata": {
    "ExecuteTime": {
     "end_time": "2021-11-17T19:45:34.721776Z",
     "start_time": "2021-11-17T19:45:34.700183Z"
    }
   },
   "outputs": [],
   "source": [
    "def generate_data(T, M):\n",
    "    from_function, arg_times, arg_vars = model(T, M)\n",
    "    num_funcs = from_function.max() + 1\n",
    "    funcs = [IncrementalGP() for _ in range(num_funcs)]\n",
    "    generated = [torch.randn(M)]\n",
    "    for t in range(T-1):\n",
    "        built = []\n",
    "        for v in range(M):\n",
    "            n = T*t + v\n",
    "            f = funcs[from_function[n]]\n",
    "            args = [generated[arg_times[i][n]][arg_vars[i][n]]\n",
    "                    for i in range(A)]\n",
    "            built.append(f.sample(torch.tensor(args)))            \n",
    "        generated.append(torch.tensor(built))\n",
    "    return torch.stack(generated), {\n",
    "        'num_funcs': num_funcs,\n",
    "        'from_function': from_function,\n",
    "        'arg_times': arg_times,\n",
    "        'arg_vars': arg_vars,\n",
    "        'T': T,\n",
    "        'M': M}"
   ]
  },
  {
   "cell_type": "code",
   "execution_count": 10,
   "id": "daaba5da",
   "metadata": {
    "ExecuteTime": {
     "end_time": "2021-11-17T19:45:42.469664Z",
     "start_time": "2021-11-17T19:45:42.283586Z"
    }
   },
   "outputs": [],
   "source": [
    "data, params = generate_data(3, 9)"
   ]
  },
  {
   "cell_type": "markdown",
   "id": "5b06d7e2",
   "metadata": {
    "heading_collapsed": true
   },
   "source": [
    "## Plot Generated Factor Graphs"
   ]
  },
  {
   "cell_type": "markdown",
   "id": "38b7f1ea",
   "metadata": {
    "hidden": true
   },
   "source": [
    "Here's a sample from a Yisong Process. Different colors indicate different calls to a function. "
   ]
  },
  {
   "cell_type": "code",
   "execution_count": 22,
   "id": "1446f191",
   "metadata": {
    "ExecuteTime": {
     "end_time": "2021-11-17T17:15:30.013893Z",
     "start_time": "2021-11-17T17:15:29.995838Z"
    },
    "hidden": true
   },
   "outputs": [],
   "source": [
    "cmap = matplotlib.cm.get_cmap('seismic', len(params['from_function']))\n",
    "colors = [matplotlib.colors.rgb2hex(cmap(i)) for i in range(cmap.N)]"
   ]
  },
  {
   "cell_type": "code",
   "execution_count": 23,
   "id": "db824635",
   "metadata": {
    "ExecuteTime": {
     "end_time": "2021-11-17T17:15:30.050923Z",
     "start_time": "2021-11-17T17:15:30.016371Z"
    },
    "hidden": true
   },
   "outputs": [],
   "source": [
    "def plot_yisong_process(params):\n",
    "    dot = graphviz.Digraph(engine='fdp', format='svg')\n",
    "    with dot.subgraph(name='cluster_x') as c:\n",
    "        for m in range(params['M']):\n",
    "            for t in range(params['T']):\n",
    "                c.node(f\"X_{m}^{t}\", pos=f\"{m},{-t}!\", label=f\"<X<sub>{m}</sub><sup>{t}</sup>>\")\n",
    "    for n, f in enumerate(params['from_function']):\n",
    "        c = colors[n]\n",
    "        i = n % params['M']\n",
    "        t = n // params['M']\n",
    "        dot.edge(f\"f{f}\", f\"X_{i}^{t+1}\", color=c)\n",
    "        for k in range(A):\n",
    "            dot.edge(f\"X_{params['arg_vars'][k, n]}^{params['arg_times'][k, n]}\", f\"f{f}\", color=c)\n",
    "    return dot"
   ]
  },
  {
   "cell_type": "code",
   "execution_count": 24,
   "id": "0ab11bff",
   "metadata": {
    "ExecuteTime": {
     "end_time": "2021-11-17T17:15:30.184977Z",
     "start_time": "2021-11-17T17:15:30.053314Z"
    },
    "hidden": true
   },
   "outputs": [
    {
     "data": {
      "image/svg+xml": [
       "<?xml version=\"1.0\" encoding=\"UTF-8\" standalone=\"no\"?>\n",
       "<!DOCTYPE svg PUBLIC \"-//W3C//DTD SVG 1.1//EN\"\n",
       " \"http://www.w3.org/Graphics/SVG/1.1/DTD/svg11.dtd\">\n",
       "<!-- Generated by graphviz version 2.49.3 (0)\n",
       " -->\n",
       "<!-- Pages: 1 -->\n",
       "<svg width=\"680pt\" height=\"293pt\"\n",
       " viewBox=\"0.00 0.00 680.00 293.00\" xmlns=\"http://www.w3.org/2000/svg\" xmlns:xlink=\"http://www.w3.org/1999/xlink\">\n",
       "<g id=\"graph0\" class=\"graph\" transform=\"scale(1 1) rotate(0) translate(4 289)\">\n",
       "<polygon fill=\"white\" stroke=\"transparent\" points=\"-4,4 -4,-289 676,-289 676,4 -4,4\"/>\n",
       "<g id=\"clust1\" class=\"cluster\">\n",
       "<title>cluster_x</title>\n",
       "<polygon fill=\"none\" stroke=\"black\" points=\"-0.27,-44.26 -0.27,-240.26 645.73,-240.26 645.73,-44.26 -0.27,-44.26\"/>\n",
       "</g>\n",
       "<!-- X_0^0 -->\n",
       "<g id=\"node1\" class=\"node\">\n",
       "<title>X_0^0</title>\n",
       "<ellipse fill=\"none\" stroke=\"black\" cx=\"34.73\" cy=\"-214.26\" rx=\"27\" ry=\"18\"/>\n",
       "<text text-anchor=\"start\" x=\"22.73\" y=\"-211.56\" font-family=\"Times,serif\" font-size=\"14.00\">X</text>\n",
       "<text text-anchor=\"start\" x=\"32.73\" y=\"-211.56\" font-family=\"Times,serif\" baseline-shift=\"sub\" font-size=\"14.00\">0</text>\n",
       "<text text-anchor=\"start\" x=\"39.73\" y=\"-211.56\" font-family=\"Times,serif\" baseline-shift=\"super\" font-size=\"14.00\">0</text>\n",
       "</g>\n",
       "<!-- X_0^1 -->\n",
       "<g id=\"node2\" class=\"node\">\n",
       "<title>X_0^1</title>\n",
       "<ellipse fill=\"none\" stroke=\"black\" cx=\"34.73\" cy=\"-142.26\" rx=\"27\" ry=\"18\"/>\n",
       "<text text-anchor=\"start\" x=\"22.73\" y=\"-139.56\" font-family=\"Times,serif\" font-size=\"14.00\">X</text>\n",
       "<text text-anchor=\"start\" x=\"32.73\" y=\"-139.56\" font-family=\"Times,serif\" baseline-shift=\"sub\" font-size=\"14.00\">0</text>\n",
       "<text text-anchor=\"start\" x=\"39.73\" y=\"-139.56\" font-family=\"Times,serif\" baseline-shift=\"super\" font-size=\"14.00\">1</text>\n",
       "</g>\n",
       "<!-- f0 -->\n",
       "<g id=\"node29\" class=\"node\">\n",
       "<title>f0</title>\n",
       "<ellipse fill=\"none\" stroke=\"black\" cx=\"307.03\" cy=\"-17.9\" rx=\"27\" ry=\"18\"/>\n",
       "<text text-anchor=\"middle\" x=\"307.03\" y=\"-14.2\" font-family=\"Times,serif\" font-size=\"14.00\">f0</text>\n",
       "</g>\n",
       "<!-- X_0^1&#45;&gt;f0 -->\n",
       "<g id=\"edge44\" class=\"edge\">\n",
       "<title>X_0^1&#45;&gt;f0</title>\n",
       "<path fill=\"none\" stroke=\"#da0000\" d=\"M57.02,-132.09C105.19,-110.09 219.16,-58.03 275.03,-32.51\"/>\n",
       "<polygon fill=\"#da0000\" stroke=\"#da0000\" points=\"276.8,-35.55 284.44,-28.22 273.89,-29.19 276.8,-35.55\"/>\n",
       "</g>\n",
       "<!-- X_0^2 -->\n",
       "<g id=\"node3\" class=\"node\">\n",
       "<title>X_0^2</title>\n",
       "<ellipse fill=\"none\" stroke=\"black\" cx=\"34.73\" cy=\"-70.26\" rx=\"27\" ry=\"18\"/>\n",
       "<text text-anchor=\"start\" x=\"22.73\" y=\"-67.56\" font-family=\"Times,serif\" font-size=\"14.00\">X</text>\n",
       "<text text-anchor=\"start\" x=\"32.73\" y=\"-67.56\" font-family=\"Times,serif\" baseline-shift=\"sub\" font-size=\"14.00\">0</text>\n",
       "<text text-anchor=\"start\" x=\"39.73\" y=\"-67.56\" font-family=\"Times,serif\" baseline-shift=\"super\" font-size=\"14.00\">2</text>\n",
       "</g>\n",
       "<!-- X_1^0 -->\n",
       "<g id=\"node4\" class=\"node\">\n",
       "<title>X_1^0</title>\n",
       "<ellipse fill=\"none\" stroke=\"black\" cx=\"106.73\" cy=\"-214.26\" rx=\"27\" ry=\"18\"/>\n",
       "<text text-anchor=\"start\" x=\"94.73\" y=\"-211.56\" font-family=\"Times,serif\" font-size=\"14.00\">X</text>\n",
       "<text text-anchor=\"start\" x=\"104.73\" y=\"-211.56\" font-family=\"Times,serif\" baseline-shift=\"sub\" font-size=\"14.00\">1</text>\n",
       "<text text-anchor=\"start\" x=\"111.73\" y=\"-211.56\" font-family=\"Times,serif\" baseline-shift=\"super\" font-size=\"14.00\">0</text>\n",
       "</g>\n",
       "<!-- X_1^0&#45;&gt;f0 -->\n",
       "<g id=\"edge11\" class=\"edge\">\n",
       "<title>X_1^0&#45;&gt;f0</title>\n",
       "<path fill=\"none\" stroke=\"#0000ca\" d=\"M134.1,-213.36C185.12,-191.73 282.48,-96.35 305.44,-45.57\"/>\n",
       "<polygon fill=\"#0000ca\" stroke=\"#0000ca\" points=\"308.78,-46.64 309.01,-36.04 302.22,-44.18 308.78,-46.64\"/>\n",
       "</g>\n",
       "<!-- X_1^0&#45;&gt;f0 -->\n",
       "<g id=\"edge17\" class=\"edge\">\n",
       "<title>X_1^0&#45;&gt;f0</title>\n",
       "<path fill=\"none\" stroke=\"#2d2dff\" d=\"M104.78,-196.06C117.47,-151.3 214.1,-53.11 270.53,-23.19\"/>\n",
       "<polygon fill=\"#2d2dff\" stroke=\"#2d2dff\" points=\"272.38,-26.18 279.89,-18.7 269.36,-19.87 272.38,-26.18\"/>\n",
       "</g>\n",
       "<!-- X_1^0&#45;&gt;f0 -->\n",
       "<g id=\"edge18\" class=\"edge\">\n",
       "<title>X_1^0&#45;&gt;f0</title>\n",
       "<path fill=\"none\" stroke=\"#2d2dff\" d=\"M110.86,-196.35C133.66,-156.62 223.47,-66.83 273.8,-31.37\"/>\n",
       "<polygon fill=\"#2d2dff\" stroke=\"#2d2dff\" points=\"276.06,-34.07 282.41,-25.59 272.16,-28.26 276.06,-34.07\"/>\n",
       "</g>\n",
       "<!-- X_1^0&#45;&gt;f0 -->\n",
       "<g id=\"edge30\" class=\"edge\">\n",
       "<title>X_1^0&#45;&gt;f0</title>\n",
       "<path fill=\"none\" stroke=\"#ffe1e1\" d=\"M118.25,-197.84C149.55,-161.84 235.99,-76.69 280.27,-37.77\"/>\n",
       "<polygon fill=\"#ffe1e1\" stroke=\"#ffe1e1\" points=\"282.75,-40.25 288.03,-31.07 278.18,-34.96 282.75,-40.25\"/>\n",
       "</g>\n",
       "<!-- X_1^0&#45;&gt;f0 -->\n",
       "<g id=\"edge35\" class=\"edge\">\n",
       "<title>X_1^0&#45;&gt;f0</title>\n",
       "<path fill=\"none\" stroke=\"#ff6969\" d=\"M125.5,-201.29C163.91,-168.77 250.59,-84.02 288.66,-42.03\"/>\n",
       "<polygon fill=\"#ff6969\" stroke=\"#ff6969\" points=\"291.35,-44.27 295.38,-34.47 286.12,-39.62 291.35,-44.27\"/>\n",
       "</g>\n",
       "<!-- X_1^0&#45;&gt;f0 -->\n",
       "<g id=\"edge45\" class=\"edge\">\n",
       "<title>X_1^0&#45;&gt;f0</title>\n",
       "<path fill=\"none\" stroke=\"#da0000\" d=\"M131.34,-206.57C176.22,-178.23 266.32,-90.14 297.43,-44.47\"/>\n",
       "<polygon fill=\"#da0000\" stroke=\"#da0000\" points=\"300.44,-46.26 302.84,-35.93 294.53,-42.51 300.44,-46.26\"/>\n",
       "</g>\n",
       "<!-- X_1^1 -->\n",
       "<g id=\"node5\" class=\"node\">\n",
       "<title>X_1^1</title>\n",
       "<ellipse fill=\"none\" stroke=\"black\" cx=\"106.73\" cy=\"-142.26\" rx=\"27\" ry=\"18\"/>\n",
       "<text text-anchor=\"start\" x=\"94.73\" y=\"-139.56\" font-family=\"Times,serif\" font-size=\"14.00\">X</text>\n",
       "<text text-anchor=\"start\" x=\"104.73\" y=\"-139.56\" font-family=\"Times,serif\" baseline-shift=\"sub\" font-size=\"14.00\">1</text>\n",
       "<text text-anchor=\"start\" x=\"111.73\" y=\"-139.56\" font-family=\"Times,serif\" baseline-shift=\"super\" font-size=\"14.00\">1</text>\n",
       "</g>\n",
       "<!-- X_1^1&#45;&gt;f0 -->\n",
       "<g id=\"edge36\" class=\"edge\">\n",
       "<title>X_1^1&#45;&gt;f0</title>\n",
       "<path fill=\"none\" stroke=\"#ff6969\" d=\"M130.08,-132.87C168.4,-112.69 244.07,-65.87 282.89,-38.49\"/>\n",
       "<polygon fill=\"#ff6969\" stroke=\"#ff6969\" points=\"284.96,-41.32 291.04,-32.63 280.87,-35.63 284.96,-41.32\"/>\n",
       "</g>\n",
       "<!-- X_1^2 -->\n",
       "<g id=\"node6\" class=\"node\">\n",
       "<title>X_1^2</title>\n",
       "<ellipse fill=\"none\" stroke=\"black\" cx=\"106.73\" cy=\"-70.26\" rx=\"27\" ry=\"18\"/>\n",
       "<text text-anchor=\"start\" x=\"94.73\" y=\"-67.56\" font-family=\"Times,serif\" font-size=\"14.00\">X</text>\n",
       "<text text-anchor=\"start\" x=\"104.73\" y=\"-67.56\" font-family=\"Times,serif\" baseline-shift=\"sub\" font-size=\"14.00\">1</text>\n",
       "<text text-anchor=\"start\" x=\"111.73\" y=\"-67.56\" font-family=\"Times,serif\" baseline-shift=\"super\" font-size=\"14.00\">2</text>\n",
       "</g>\n",
       "<!-- X_2^0 -->\n",
       "<g id=\"node7\" class=\"node\">\n",
       "<title>X_2^0</title>\n",
       "<ellipse fill=\"none\" stroke=\"black\" cx=\"178.73\" cy=\"-214.26\" rx=\"27\" ry=\"18\"/>\n",
       "<text text-anchor=\"start\" x=\"166.73\" y=\"-211.56\" font-family=\"Times,serif\" font-size=\"14.00\">X</text>\n",
       "<text text-anchor=\"start\" x=\"176.73\" y=\"-211.56\" font-family=\"Times,serif\" baseline-shift=\"sub\" font-size=\"14.00\">2</text>\n",
       "<text text-anchor=\"start\" x=\"183.73\" y=\"-211.56\" font-family=\"Times,serif\" baseline-shift=\"super\" font-size=\"14.00\">0</text>\n",
       "</g>\n",
       "<!-- f1 -->\n",
       "<g id=\"node28\" class=\"node\">\n",
       "<title>f1</title>\n",
       "<ellipse fill=\"none\" stroke=\"black\" cx=\"645.13\" cy=\"-17.7\" rx=\"27\" ry=\"18\"/>\n",
       "<text text-anchor=\"middle\" x=\"645.13\" y=\"-14\" font-family=\"Times,serif\" font-size=\"14.00\">f1</text>\n",
       "</g>\n",
       "<!-- X_2^0&#45;&gt;f1 -->\n",
       "<g id=\"edge3\" class=\"edge\">\n",
       "<title>X_2^0&#45;&gt;f1</title>\n",
       "<path fill=\"none\" stroke=\"#00004c\" d=\"M205.32,-210.02C287.42,-185.45 535.82,-80.98 618.28,-36.63\"/>\n",
       "<polygon fill=\"#00004c\" stroke=\"#00004c\" points=\"620.44,-39.43 627.49,-31.53 617.05,-33.31 620.44,-39.43\"/>\n",
       "</g>\n",
       "<!-- X_2^0&#45;&gt;f1 -->\n",
       "<g id=\"edge42\" class=\"edge\">\n",
       "<title>X_2^0&#45;&gt;f1</title>\n",
       "<path fill=\"none\" stroke=\"#f80000\" d=\"M196.48,-200.37C265.34,-160.93 514.82,-55.25 608.93,-24.94\"/>\n",
       "<polygon fill=\"#f80000\" stroke=\"#f80000\" points=\"610.08,-28.25 618.59,-21.93 608,-21.57 610.08,-28.25\"/>\n",
       "</g>\n",
       "<!-- X_2^0&#45;&gt;f1 -->\n",
       "<g id=\"edge47\" class=\"edge\">\n",
       "<title>X_2^0&#45;&gt;f1</title>\n",
       "<path fill=\"none\" stroke=\"#bc0000\" d=\"M201.86,-204.52C278.49,-172.22 524.19,-68.67 612.84,-31.31\"/>\n",
       "<polygon fill=\"#bc0000\" stroke=\"#bc0000\" points=\"614.28,-34.5 622.14,-27.39 611.56,-28.05 614.28,-34.5\"/>\n",
       "</g>\n",
       "<!-- X_2^0&#45;&gt;f0 -->\n",
       "<g id=\"edge12\" class=\"edge\">\n",
       "<title>X_2^0&#45;&gt;f0</title>\n",
       "<path fill=\"none\" stroke=\"#0000ca\" d=\"M189.67,-197.52C212.21,-163.03 263.92,-83.88 290.54,-43.14\"/>\n",
       "<polygon fill=\"#0000ca\" stroke=\"#0000ca\" points=\"293.58,-44.88 296.12,-34.6 287.72,-41.05 293.58,-44.88\"/>\n",
       "</g>\n",
       "<!-- f2 -->\n",
       "<g id=\"node30\" class=\"node\">\n",
       "<title>f2</title>\n",
       "<ellipse fill=\"none\" stroke=\"black\" cx=\"170.61\" cy=\"-267.19\" rx=\"27\" ry=\"18\"/>\n",
       "<text text-anchor=\"middle\" x=\"170.61\" y=\"-263.49\" font-family=\"Times,serif\" font-size=\"14.00\">f2</text>\n",
       "</g>\n",
       "<!-- X_2^0&#45;&gt;f2 -->\n",
       "<g id=\"edge8\" class=\"edge\">\n",
       "<title>X_2^0&#45;&gt;f2</title>\n",
       "<path fill=\"none\" stroke=\"#0000a0\" d=\"M154.32,-222.54C149.15,-228.58 146.86,-236.95 147.88,-244.84\"/>\n",
       "<polygon fill=\"#0000a0\" stroke=\"#0000a0\" points=\"144.55,-245.93 150.97,-254.36 151.21,-243.77 144.55,-245.93\"/>\n",
       "</g>\n",
       "<!-- X_2^0&#45;&gt;f2 -->\n",
       "<g id=\"edge15\" class=\"edge\">\n",
       "<title>X_2^0&#45;&gt;f2</title>\n",
       "<path fill=\"none\" stroke=\"#0000f4\" d=\"M198.3,-226.95C202.27,-233.98 202.69,-242.72 199.98,-250.3\"/>\n",
       "<polygon fill=\"#0000f4\" stroke=\"#0000f4\" points=\"196.89,-248.64 194.91,-259.05 202.95,-252.15 196.89,-248.64\"/>\n",
       "</g>\n",
       "<!-- X_2^0&#45;&gt;f2 -->\n",
       "<g id=\"edge21\" class=\"edge\">\n",
       "<title>X_2^0&#45;&gt;f2</title>\n",
       "<path fill=\"none\" stroke=\"#6969ff\" d=\"M188.6,-231.16C188.81,-234.61 188.65,-238.31 188.13,-241.98\"/>\n",
       "<polygon fill=\"#6969ff\" stroke=\"#6969ff\" points=\"184.66,-241.47 185.81,-252 191.48,-243.05 184.66,-241.47\"/>\n",
       "</g>\n",
       "<!-- X_2^0&#45;&gt;f2 -->\n",
       "<g id=\"edge23\" class=\"edge\">\n",
       "<title>X_2^0&#45;&gt;f2</title>\n",
       "<path fill=\"none\" stroke=\"#a5a5ff\" d=\"M175.98,-232.18C175.65,-234.37 175.3,-236.66 174.95,-238.95\"/>\n",
       "<polygon fill=\"#a5a5ff\" stroke=\"#a5a5ff\" points=\"171.47,-238.51 173.41,-248.93 178.39,-239.58 171.47,-238.51\"/>\n",
       "</g>\n",
       "<!-- X_2^0&#45;&gt;f2 -->\n",
       "<g id=\"edge24\" class=\"edge\">\n",
       "<title>X_2^0&#45;&gt;f2</title>\n",
       "<path fill=\"none\" stroke=\"#a5a5ff\" d=\"M163.56,-229.37C162.44,-232.71 161.62,-236.34 161.14,-239.99\"/>\n",
       "<polygon fill=\"#a5a5ff\" stroke=\"#a5a5ff\" points=\"157.64,-239.97 160.74,-250.1 164.64,-240.25 157.64,-239.97\"/>\n",
       "</g>\n",
       "<!-- X_2^1 -->\n",
       "<g id=\"node8\" class=\"node\">\n",
       "<title>X_2^1</title>\n",
       "<ellipse fill=\"none\" stroke=\"black\" cx=\"178.73\" cy=\"-142.26\" rx=\"27\" ry=\"18\"/>\n",
       "<text text-anchor=\"start\" x=\"166.73\" y=\"-139.56\" font-family=\"Times,serif\" font-size=\"14.00\">X</text>\n",
       "<text text-anchor=\"start\" x=\"176.73\" y=\"-139.56\" font-family=\"Times,serif\" baseline-shift=\"sub\" font-size=\"14.00\">2</text>\n",
       "<text text-anchor=\"start\" x=\"183.73\" y=\"-139.56\" font-family=\"Times,serif\" baseline-shift=\"super\" font-size=\"14.00\">1</text>\n",
       "</g>\n",
       "<!-- X_2^1&#45;&gt;f0 -->\n",
       "<g id=\"edge32\" class=\"edge\">\n",
       "<title>X_2^1&#45;&gt;f0</title>\n",
       "<path fill=\"none\" stroke=\"#ffa5a5\" d=\"M198.52,-129.63C223.36,-109.12 265.35,-68.64 289.23,-42.38\"/>\n",
       "<polygon fill=\"#ffa5a5\" stroke=\"#ffa5a5\" points=\"292,-44.53 296.02,-34.72 286.77,-39.88 292,-44.53\"/>\n",
       "</g>\n",
       "<!-- X_2^1&#45;&gt;f0 -->\n",
       "<g id=\"edge33\" class=\"edge\">\n",
       "<title>X_2^1&#45;&gt;f0</title>\n",
       "<path fill=\"none\" stroke=\"#ffa5a5\" d=\"M189.65,-125.56C209.48,-102.49 251.47,-61.33 279.53,-37.06\"/>\n",
       "<polygon fill=\"#ffa5a5\" stroke=\"#ffa5a5\" points=\"282.03,-39.53 287.4,-30.4 277.51,-34.19 282.03,-39.53\"/>\n",
       "</g>\n",
       "<!-- X_2^1&#45;&gt;f2 -->\n",
       "<g id=\"edge54\" class=\"edge\">\n",
       "<title>X_2^1&#45;&gt;f2</title>\n",
       "<path fill=\"none\" stroke=\"#800000\" d=\"M172.68,-159.84C169.19,-180.39 166.69,-214.67 166.71,-238.96\"/>\n",
       "<polygon fill=\"#800000\" stroke=\"#800000\" points=\"163.21,-239.07 166.89,-249.01 170.21,-238.95 163.21,-239.07\"/>\n",
       "</g>\n",
       "<!-- X_2^2 -->\n",
       "<g id=\"node9\" class=\"node\">\n",
       "<title>X_2^2</title>\n",
       "<ellipse fill=\"none\" stroke=\"black\" cx=\"178.73\" cy=\"-70.26\" rx=\"27\" ry=\"18\"/>\n",
       "<text text-anchor=\"start\" x=\"166.73\" y=\"-67.56\" font-family=\"Times,serif\" font-size=\"14.00\">X</text>\n",
       "<text text-anchor=\"start\" x=\"176.73\" y=\"-67.56\" font-family=\"Times,serif\" baseline-shift=\"sub\" font-size=\"14.00\">2</text>\n",
       "<text text-anchor=\"start\" x=\"183.73\" y=\"-67.56\" font-family=\"Times,serif\" baseline-shift=\"super\" font-size=\"14.00\">2</text>\n",
       "</g>\n",
       "<!-- X_3^0 -->\n",
       "<g id=\"node10\" class=\"node\">\n",
       "<title>X_3^0</title>\n",
       "<ellipse fill=\"none\" stroke=\"black\" cx=\"250.73\" cy=\"-214.26\" rx=\"27\" ry=\"18\"/>\n",
       "<text text-anchor=\"start\" x=\"238.73\" y=\"-211.56\" font-family=\"Times,serif\" font-size=\"14.00\">X</text>\n",
       "<text text-anchor=\"start\" x=\"248.73\" y=\"-211.56\" font-family=\"Times,serif\" baseline-shift=\"sub\" font-size=\"14.00\">3</text>\n",
       "<text text-anchor=\"start\" x=\"255.73\" y=\"-211.56\" font-family=\"Times,serif\" baseline-shift=\"super\" font-size=\"14.00\">0</text>\n",
       "</g>\n",
       "<!-- X_3^0&#45;&gt;f1 -->\n",
       "<g id=\"edge26\" class=\"edge\">\n",
       "<title>X_3^0&#45;&gt;f1</title>\n",
       "<path fill=\"none\" stroke=\"#e1e1ff\" d=\"M272.5,-203.41C338.63,-170.46 537.33,-71.43 614.25,-33.09\"/>\n",
       "<polygon fill=\"#e1e1ff\" stroke=\"#e1e1ff\" points=\"616.04,-36.11 623.43,-28.52 612.92,-29.84 616.04,-36.11\"/>\n",
       "</g>\n",
       "<!-- X_3^0&#45;&gt;f0 -->\n",
       "<g id=\"edge5\" class=\"edge\">\n",
       "<title>X_3^0&#45;&gt;f0</title>\n",
       "<path fill=\"none\" stroke=\"#000076\" d=\"M259.88,-197.27C272.99,-163.41 295.06,-87.28 304,-45.92\"/>\n",
       "<polygon fill=\"#000076\" stroke=\"#000076\" points=\"307.46,-46.45 306.02,-35.95 300.6,-45.06 307.46,-46.45\"/>\n",
       "</g>\n",
       "<!-- X_3^0&#45;&gt;f0 -->\n",
       "<g id=\"edge29\" class=\"edge\">\n",
       "<title>X_3^0&#45;&gt;f0</title>\n",
       "<path fill=\"none\" stroke=\"#ffe1e1\" d=\"M251.77,-196.07C258.29,-161.27 279.81,-85.15 294.29,-44.58\"/>\n",
       "<polygon fill=\"#ffe1e1\" stroke=\"#ffe1e1\" points=\"297.62,-45.67 297.81,-35.08 291.05,-43.24 297.62,-45.67\"/>\n",
       "</g>\n",
       "<!-- X_3^1 -->\n",
       "<g id=\"node11\" class=\"node\">\n",
       "<title>X_3^1</title>\n",
       "<ellipse fill=\"none\" stroke=\"black\" cx=\"250.73\" cy=\"-142.26\" rx=\"27\" ry=\"18\"/>\n",
       "<text text-anchor=\"start\" x=\"238.73\" y=\"-139.56\" font-family=\"Times,serif\" font-size=\"14.00\">X</text>\n",
       "<text text-anchor=\"start\" x=\"248.73\" y=\"-139.56\" font-family=\"Times,serif\" baseline-shift=\"sub\" font-size=\"14.00\">3</text>\n",
       "<text text-anchor=\"start\" x=\"255.73\" y=\"-139.56\" font-family=\"Times,serif\" baseline-shift=\"super\" font-size=\"14.00\">1</text>\n",
       "</g>\n",
       "<!-- X_3^2 -->\n",
       "<g id=\"node12\" class=\"node\">\n",
       "<title>X_3^2</title>\n",
       "<ellipse fill=\"none\" stroke=\"black\" cx=\"250.73\" cy=\"-70.26\" rx=\"27\" ry=\"18\"/>\n",
       "<text text-anchor=\"start\" x=\"238.73\" y=\"-67.56\" font-family=\"Times,serif\" font-size=\"14.00\">X</text>\n",
       "<text text-anchor=\"start\" x=\"248.73\" y=\"-67.56\" font-family=\"Times,serif\" baseline-shift=\"sub\" font-size=\"14.00\">3</text>\n",
       "<text text-anchor=\"start\" x=\"255.73\" y=\"-67.56\" font-family=\"Times,serif\" baseline-shift=\"super\" font-size=\"14.00\">2</text>\n",
       "</g>\n",
       "<!-- X_4^0 -->\n",
       "<g id=\"node13\" class=\"node\">\n",
       "<title>X_4^0</title>\n",
       "<ellipse fill=\"none\" stroke=\"black\" cx=\"322.73\" cy=\"-214.26\" rx=\"27\" ry=\"18\"/>\n",
       "<text text-anchor=\"start\" x=\"310.73\" y=\"-211.56\" font-family=\"Times,serif\" font-size=\"14.00\">X</text>\n",
       "<text text-anchor=\"start\" x=\"320.73\" y=\"-211.56\" font-family=\"Times,serif\" baseline-shift=\"sub\" font-size=\"14.00\">4</text>\n",
       "<text text-anchor=\"start\" x=\"327.73\" y=\"-211.56\" font-family=\"Times,serif\" baseline-shift=\"super\" font-size=\"14.00\">0</text>\n",
       "</g>\n",
       "<!-- X_4^0&#45;&gt;f1 -->\n",
       "<g id=\"edge41\" class=\"edge\">\n",
       "<title>X_4^0&#45;&gt;f1</title>\n",
       "<path fill=\"none\" stroke=\"#f80000\" d=\"M342.9,-201.97C398.09,-168.32 551.73,-74.65 616.14,-35.38\"/>\n",
       "<polygon fill=\"#f80000\" stroke=\"#f80000\" points=\"618.25,-38.19 624.97,-29.99 614.61,-32.21 618.25,-38.19\"/>\n",
       "</g>\n",
       "<!-- X_4^0&#45;&gt;f2 -->\n",
       "<g id=\"edge20\" class=\"edge\">\n",
       "<title>X_4^0&#45;&gt;f2</title>\n",
       "<path fill=\"none\" stroke=\"#6969ff\" d=\"M298.63,-222.65C273.15,-231.51 232.77,-245.56 204.18,-255.51\"/>\n",
       "<polygon fill=\"#6969ff\" stroke=\"#6969ff\" points=\"202.9,-252.25 194.6,-258.84 205.2,-258.86 202.9,-252.25\"/>\n",
       "</g>\n",
       "<!-- X_4^1 -->\n",
       "<g id=\"node14\" class=\"node\">\n",
       "<title>X_4^1</title>\n",
       "<ellipse fill=\"none\" stroke=\"black\" cx=\"322.73\" cy=\"-142.26\" rx=\"27\" ry=\"18\"/>\n",
       "<text text-anchor=\"start\" x=\"310.73\" y=\"-139.56\" font-family=\"Times,serif\" font-size=\"14.00\">X</text>\n",
       "<text text-anchor=\"start\" x=\"320.73\" y=\"-139.56\" font-family=\"Times,serif\" baseline-shift=\"sub\" font-size=\"14.00\">4</text>\n",
       "<text text-anchor=\"start\" x=\"327.73\" y=\"-139.56\" font-family=\"Times,serif\" baseline-shift=\"super\" font-size=\"14.00\">1</text>\n",
       "</g>\n",
       "<!-- X_4^1&#45;&gt;f1 -->\n",
       "<g id=\"edge51\" class=\"edge\">\n",
       "<title>X_4^1&#45;&gt;f1</title>\n",
       "<path fill=\"none\" stroke=\"#9e0000\" d=\"M346.18,-133.2C402.69,-111.37 546.55,-55.79 611.91,-30.53\"/>\n",
       "<polygon fill=\"#9e0000\" stroke=\"#9e0000\" points=\"613.27,-33.76 621.34,-26.89 610.75,-27.23 613.27,-33.76\"/>\n",
       "</g>\n",
       "<!-- X_4^2 -->\n",
       "<g id=\"node15\" class=\"node\">\n",
       "<title>X_4^2</title>\n",
       "<ellipse fill=\"none\" stroke=\"black\" cx=\"322.73\" cy=\"-70.26\" rx=\"27\" ry=\"18\"/>\n",
       "<text text-anchor=\"start\" x=\"310.73\" y=\"-67.56\" font-family=\"Times,serif\" font-size=\"14.00\">X</text>\n",
       "<text text-anchor=\"start\" x=\"320.73\" y=\"-67.56\" font-family=\"Times,serif\" baseline-shift=\"sub\" font-size=\"14.00\">4</text>\n",
       "<text text-anchor=\"start\" x=\"327.73\" y=\"-67.56\" font-family=\"Times,serif\" baseline-shift=\"super\" font-size=\"14.00\">2</text>\n",
       "</g>\n",
       "<!-- X_5^0 -->\n",
       "<g id=\"node16\" class=\"node\">\n",
       "<title>X_5^0</title>\n",
       "<ellipse fill=\"none\" stroke=\"black\" cx=\"394.73\" cy=\"-214.26\" rx=\"27\" ry=\"18\"/>\n",
       "<text text-anchor=\"start\" x=\"382.73\" y=\"-211.56\" font-family=\"Times,serif\" font-size=\"14.00\">X</text>\n",
       "<text text-anchor=\"start\" x=\"392.73\" y=\"-211.56\" font-family=\"Times,serif\" baseline-shift=\"sub\" font-size=\"14.00\">5</text>\n",
       "<text text-anchor=\"start\" x=\"399.73\" y=\"-211.56\" font-family=\"Times,serif\" baseline-shift=\"super\" font-size=\"14.00\">0</text>\n",
       "</g>\n",
       "<!-- X_5^1 -->\n",
       "<g id=\"node17\" class=\"node\">\n",
       "<title>X_5^1</title>\n",
       "<ellipse fill=\"none\" stroke=\"black\" cx=\"394.73\" cy=\"-142.26\" rx=\"27\" ry=\"18\"/>\n",
       "<text text-anchor=\"start\" x=\"382.73\" y=\"-139.56\" font-family=\"Times,serif\" font-size=\"14.00\">X</text>\n",
       "<text text-anchor=\"start\" x=\"392.73\" y=\"-139.56\" font-family=\"Times,serif\" baseline-shift=\"sub\" font-size=\"14.00\">5</text>\n",
       "<text text-anchor=\"start\" x=\"399.73\" y=\"-139.56\" font-family=\"Times,serif\" baseline-shift=\"super\" font-size=\"14.00\">1</text>\n",
       "</g>\n",
       "<!-- X_5^2 -->\n",
       "<g id=\"node18\" class=\"node\">\n",
       "<title>X_5^2</title>\n",
       "<ellipse fill=\"none\" stroke=\"black\" cx=\"394.73\" cy=\"-70.26\" rx=\"27\" ry=\"18\"/>\n",
       "<text text-anchor=\"start\" x=\"382.73\" y=\"-67.56\" font-family=\"Times,serif\" font-size=\"14.00\">X</text>\n",
       "<text text-anchor=\"start\" x=\"392.73\" y=\"-67.56\" font-family=\"Times,serif\" baseline-shift=\"sub\" font-size=\"14.00\">5</text>\n",
       "<text text-anchor=\"start\" x=\"399.73\" y=\"-67.56\" font-family=\"Times,serif\" baseline-shift=\"super\" font-size=\"14.00\">2</text>\n",
       "</g>\n",
       "<!-- X_6^0 -->\n",
       "<g id=\"node19\" class=\"node\">\n",
       "<title>X_6^0</title>\n",
       "<ellipse fill=\"none\" stroke=\"black\" cx=\"466.73\" cy=\"-214.26\" rx=\"27\" ry=\"18\"/>\n",
       "<text text-anchor=\"start\" x=\"454.73\" y=\"-211.56\" font-family=\"Times,serif\" font-size=\"14.00\">X</text>\n",
       "<text text-anchor=\"start\" x=\"464.73\" y=\"-211.56\" font-family=\"Times,serif\" baseline-shift=\"sub\" font-size=\"14.00\">6</text>\n",
       "<text text-anchor=\"start\" x=\"471.73\" y=\"-211.56\" font-family=\"Times,serif\" baseline-shift=\"super\" font-size=\"14.00\">0</text>\n",
       "</g>\n",
       "<!-- X_6^0&#45;&gt;f1 -->\n",
       "<g id=\"edge48\" class=\"edge\">\n",
       "<title>X_6^0&#45;&gt;f1</title>\n",
       "<path fill=\"none\" stroke=\"#bc0000\" d=\"M484.56,-200.49C519.24,-167.58 594.83,-84.55 628.52,-42.61\"/>\n",
       "<polygon fill=\"#bc0000\" stroke=\"#bc0000\" points=\"631.42,-44.58 634.86,-34.56 625.92,-40.25 631.42,-44.58\"/>\n",
       "</g>\n",
       "<!-- X_6^0&#45;&gt;f1 -->\n",
       "<g id=\"edge50\" class=\"edge\">\n",
       "<title>X_6^0&#45;&gt;f1</title>\n",
       "<path fill=\"none\" stroke=\"#9e0000\" d=\"M477.08,-197.3C504.74,-161.31 580.06,-77.9 619.87,-38.67\"/>\n",
       "<polygon fill=\"#9e0000\" stroke=\"#9e0000\" points=\"622.59,-40.91 627.34,-31.44 617.72,-35.88 622.59,-40.91\"/>\n",
       "</g>\n",
       "<!-- X_6^0&#45;&gt;f2 -->\n",
       "<g id=\"edge14\" class=\"edge\">\n",
       "<title>X_6^0&#45;&gt;f2</title>\n",
       "<path fill=\"none\" stroke=\"#0000f4\" d=\"M439.74,-214.98C385.73,-221.15 264.45,-242.66 204.9,-256.44\"/>\n",
       "<polygon fill=\"#0000f4\" stroke=\"#0000f4\" points=\"203.79,-253.1 194.88,-258.83 205.42,-259.91 203.79,-253.1\"/>\n",
       "</g>\n",
       "<!-- X_6^0&#45;&gt;f2 -->\n",
       "<g id=\"edge38\" class=\"edge\">\n",
       "<title>X_6^0&#45;&gt;f2</title>\n",
       "<path fill=\"none\" stroke=\"#ff2d2d\" d=\"M442.69,-222.57C391.14,-235.33 269.68,-257.27 207.98,-265.21\"/>\n",
       "<polygon fill=\"#ff2d2d\" stroke=\"#ff2d2d\" points=\"207.4,-261.76 197.9,-266.44 208.25,-268.7 207.4,-261.76\"/>\n",
       "</g>\n",
       "<!-- X_6^1 -->\n",
       "<g id=\"node20\" class=\"node\">\n",
       "<title>X_6^1</title>\n",
       "<ellipse fill=\"none\" stroke=\"black\" cx=\"466.73\" cy=\"-142.26\" rx=\"27\" ry=\"18\"/>\n",
       "<text text-anchor=\"start\" x=\"454.73\" y=\"-139.56\" font-family=\"Times,serif\" font-size=\"14.00\">X</text>\n",
       "<text text-anchor=\"start\" x=\"464.73\" y=\"-139.56\" font-family=\"Times,serif\" baseline-shift=\"sub\" font-size=\"14.00\">6</text>\n",
       "<text text-anchor=\"start\" x=\"471.73\" y=\"-139.56\" font-family=\"Times,serif\" baseline-shift=\"super\" font-size=\"14.00\">1</text>\n",
       "</g>\n",
       "<!-- X_6^2 -->\n",
       "<g id=\"node21\" class=\"node\">\n",
       "<title>X_6^2</title>\n",
       "<ellipse fill=\"none\" stroke=\"black\" cx=\"466.73\" cy=\"-70.26\" rx=\"27\" ry=\"18\"/>\n",
       "<text text-anchor=\"start\" x=\"454.73\" y=\"-67.56\" font-family=\"Times,serif\" font-size=\"14.00\">X</text>\n",
       "<text text-anchor=\"start\" x=\"464.73\" y=\"-67.56\" font-family=\"Times,serif\" baseline-shift=\"sub\" font-size=\"14.00\">6</text>\n",
       "<text text-anchor=\"start\" x=\"471.73\" y=\"-67.56\" font-family=\"Times,serif\" baseline-shift=\"super\" font-size=\"14.00\">2</text>\n",
       "</g>\n",
       "<!-- X_7^0 -->\n",
       "<g id=\"node22\" class=\"node\">\n",
       "<title>X_7^0</title>\n",
       "<ellipse fill=\"none\" stroke=\"black\" cx=\"538.73\" cy=\"-214.26\" rx=\"27\" ry=\"18\"/>\n",
       "<text text-anchor=\"start\" x=\"526.73\" y=\"-211.56\" font-family=\"Times,serif\" font-size=\"14.00\">X</text>\n",
       "<text text-anchor=\"start\" x=\"536.73\" y=\"-211.56\" font-family=\"Times,serif\" baseline-shift=\"sub\" font-size=\"14.00\">7</text>\n",
       "<text text-anchor=\"start\" x=\"543.73\" y=\"-211.56\" font-family=\"Times,serif\" baseline-shift=\"super\" font-size=\"14.00\">0</text>\n",
       "</g>\n",
       "<!-- X_7^0&#45;&gt;f1 -->\n",
       "<g id=\"edge2\" class=\"edge\">\n",
       "<title>X_7^0&#45;&gt;f1</title>\n",
       "<path fill=\"none\" stroke=\"#00004c\" d=\"M551.95,-198.41C573.94,-164.84 616.6,-86.44 635.78,-44.77\"/>\n",
       "<polygon fill=\"#00004c\" stroke=\"#00004c\" points=\"639.04,-46.06 639.92,-35.51 632.65,-43.21 639.04,-46.06\"/>\n",
       "</g>\n",
       "<!-- X_7^0&#45;&gt;f1 -->\n",
       "<g id=\"edge27\" class=\"edge\">\n",
       "<title>X_7^0&#45;&gt;f1</title>\n",
       "<path fill=\"none\" stroke=\"#e1e1ff\" d=\"M544,-196.32C559.24,-160.9 601.51,-82.18 626.46,-42.1\"/>\n",
       "<polygon fill=\"#e1e1ff\" stroke=\"#e1e1ff\" points=\"629.54,-43.79 631.96,-33.48 623.63,-40.03 629.54,-43.79\"/>\n",
       "</g>\n",
       "<!-- X_7^0&#45;&gt;f0 -->\n",
       "<g id=\"edge6\" class=\"edge\">\n",
       "<title>X_7^0&#45;&gt;f0</title>\n",
       "<path fill=\"none\" stroke=\"#000076\" d=\"M521.7,-199.82C481.18,-165.48 378.93,-78.83 331.67,-38.78\"/>\n",
       "<polygon fill=\"#000076\" stroke=\"#000076\" points=\"333.67,-35.89 323.78,-32.09 329.15,-41.23 333.67,-35.89\"/>\n",
       "</g>\n",
       "<!-- X_7^1 -->\n",
       "<g id=\"node23\" class=\"node\">\n",
       "<title>X_7^1</title>\n",
       "<ellipse fill=\"none\" stroke=\"black\" cx=\"538.73\" cy=\"-142.26\" rx=\"27\" ry=\"18\"/>\n",
       "<text text-anchor=\"start\" x=\"526.73\" y=\"-139.56\" font-family=\"Times,serif\" font-size=\"14.00\">X</text>\n",
       "<text text-anchor=\"start\" x=\"536.73\" y=\"-139.56\" font-family=\"Times,serif\" baseline-shift=\"sub\" font-size=\"14.00\">7</text>\n",
       "<text text-anchor=\"start\" x=\"543.73\" y=\"-139.56\" font-family=\"Times,serif\" baseline-shift=\"super\" font-size=\"14.00\">1</text>\n",
       "</g>\n",
       "<!-- X_7^2 -->\n",
       "<g id=\"node24\" class=\"node\">\n",
       "<title>X_7^2</title>\n",
       "<ellipse fill=\"none\" stroke=\"black\" cx=\"538.73\" cy=\"-70.26\" rx=\"27\" ry=\"18\"/>\n",
       "<text text-anchor=\"start\" x=\"526.73\" y=\"-67.56\" font-family=\"Times,serif\" font-size=\"14.00\">X</text>\n",
       "<text text-anchor=\"start\" x=\"536.73\" y=\"-67.56\" font-family=\"Times,serif\" baseline-shift=\"sub\" font-size=\"14.00\">7</text>\n",
       "<text text-anchor=\"start\" x=\"543.73\" y=\"-67.56\" font-family=\"Times,serif\" baseline-shift=\"super\" font-size=\"14.00\">2</text>\n",
       "</g>\n",
       "<!-- X_8^0 -->\n",
       "<g id=\"node25\" class=\"node\">\n",
       "<title>X_8^0</title>\n",
       "<ellipse fill=\"none\" stroke=\"black\" cx=\"610.73\" cy=\"-214.26\" rx=\"27\" ry=\"18\"/>\n",
       "<text text-anchor=\"start\" x=\"598.73\" y=\"-211.56\" font-family=\"Times,serif\" font-size=\"14.00\">X</text>\n",
       "<text text-anchor=\"start\" x=\"608.73\" y=\"-211.56\" font-family=\"Times,serif\" baseline-shift=\"sub\" font-size=\"14.00\">8</text>\n",
       "<text text-anchor=\"start\" x=\"615.73\" y=\"-211.56\" font-family=\"Times,serif\" baseline-shift=\"super\" font-size=\"14.00\">0</text>\n",
       "</g>\n",
       "<!-- X_8^0&#45;&gt;f2 -->\n",
       "<g id=\"edge9\" class=\"edge\">\n",
       "<title>X_8^0&#45;&gt;f2</title>\n",
       "<path fill=\"none\" stroke=\"#0000a0\" d=\"M583.87,-217.49C508.35,-226.58 294.1,-252.34 207.55,-262.75\"/>\n",
       "<polygon fill=\"#0000a0\" stroke=\"#0000a0\" points=\"206.92,-259.3 197.41,-263.97 207.76,-266.25 206.92,-259.3\"/>\n",
       "</g>\n",
       "<!-- X_8^1 -->\n",
       "<g id=\"node26\" class=\"node\">\n",
       "<title>X_8^1</title>\n",
       "<ellipse fill=\"none\" stroke=\"black\" cx=\"610.73\" cy=\"-142.26\" rx=\"27\" ry=\"18\"/>\n",
       "<text text-anchor=\"start\" x=\"598.73\" y=\"-139.56\" font-family=\"Times,serif\" font-size=\"14.00\">X</text>\n",
       "<text text-anchor=\"start\" x=\"608.73\" y=\"-139.56\" font-family=\"Times,serif\" baseline-shift=\"sub\" font-size=\"14.00\">8</text>\n",
       "<text text-anchor=\"start\" x=\"615.73\" y=\"-139.56\" font-family=\"Times,serif\" baseline-shift=\"super\" font-size=\"14.00\">1</text>\n",
       "</g>\n",
       "<!-- X_8^1&#45;&gt;f2 -->\n",
       "<g id=\"edge39\" class=\"edge\">\n",
       "<title>X_8^1&#45;&gt;f2</title>\n",
       "<path fill=\"none\" stroke=\"#ff2d2d\" d=\"M584.25,-146.27C507.69,-163.47 286.35,-226.16 202.93,-254.08\"/>\n",
       "<polygon fill=\"#ff2d2d\" stroke=\"#ff2d2d\" points=\"201.8,-250.77 193.46,-257.31 204.05,-257.4 201.8,-250.77\"/>\n",
       "</g>\n",
       "<!-- X_8^1&#45;&gt;f2 -->\n",
       "<g id=\"edge53\" class=\"edge\">\n",
       "<title>X_8^1&#45;&gt;f2</title>\n",
       "<path fill=\"none\" stroke=\"#800000\" d=\"M587.96,-152.12C516.18,-177.11 294.3,-240.3 206.7,-260.97\"/>\n",
       "<polygon fill=\"#800000\" stroke=\"#800000\" points=\"205.9,-257.56 196.95,-263.22 207.48,-264.38 205.9,-257.56\"/>\n",
       "</g>\n",
       "<!-- X_8^2 -->\n",
       "<g id=\"node27\" class=\"node\">\n",
       "<title>X_8^2</title>\n",
       "<ellipse fill=\"none\" stroke=\"black\" cx=\"610.73\" cy=\"-70.26\" rx=\"27\" ry=\"18\"/>\n",
       "<text text-anchor=\"start\" x=\"598.73\" y=\"-67.56\" font-family=\"Times,serif\" font-size=\"14.00\">X</text>\n",
       "<text text-anchor=\"start\" x=\"608.73\" y=\"-67.56\" font-family=\"Times,serif\" baseline-shift=\"sub\" font-size=\"14.00\">8</text>\n",
       "<text text-anchor=\"start\" x=\"615.73\" y=\"-67.56\" font-family=\"Times,serif\" baseline-shift=\"super\" font-size=\"14.00\">2</text>\n",
       "</g>\n",
       "<!-- f1&#45;&gt;X_0^1 -->\n",
       "<g id=\"edge1\" class=\"edge\">\n",
       "<title>f1&#45;&gt;X_0^1</title>\n",
       "<path fill=\"none\" stroke=\"#00004c\" d=\"M619.29,-22.97C522.68,-42.69 182.52,-112.1 70.67,-134.93\"/>\n",
       "<polygon fill=\"#00004c\" stroke=\"#00004c\" points=\"69.68,-131.56 60.58,-136.99 71.08,-138.42 69.68,-131.56\"/>\n",
       "</g>\n",
       "<!-- f1&#45;&gt;X_4^2 -->\n",
       "<g id=\"edge40\" class=\"edge\">\n",
       "<title>f1&#45;&gt;X_4^2</title>\n",
       "<path fill=\"none\" stroke=\"#f80000\" d=\"M618.75,-22C561.22,-31.38 424.41,-53.69 358.91,-64.37\"/>\n",
       "<polygon fill=\"#f80000\" stroke=\"#f80000\" points=\"358.34,-60.91 349.03,-65.98 359.46,-67.82 358.34,-60.91\"/>\n",
       "</g>\n",
       "<!-- f1&#45;&gt;X_6^2 -->\n",
       "<g id=\"edge46\" class=\"edge\">\n",
       "<title>f1&#45;&gt;X_6^2</title>\n",
       "<path fill=\"none\" stroke=\"#bc0000\" d=\"M620.32,-25.01C589.39,-34.12 536.33,-49.76 501.39,-60.05\"/>\n",
       "<polygon fill=\"#bc0000\" stroke=\"#bc0000\" points=\"500.22,-56.75 491.62,-62.93 502.2,-63.46 500.22,-56.75\"/>\n",
       "</g>\n",
       "<!-- f1&#45;&gt;X_7^2 -->\n",
       "<g id=\"edge49\" class=\"edge\">\n",
       "<title>f1&#45;&gt;X_7^2</title>\n",
       "<path fill=\"none\" stroke=\"#9e0000\" d=\"M623.34,-28.46C607.85,-36.12 586.82,-46.51 569.61,-55.01\"/>\n",
       "<polygon fill=\"#9e0000\" stroke=\"#9e0000\" points=\"567.91,-51.95 560.49,-59.51 571.01,-58.22 567.91,-51.95\"/>\n",
       "</g>\n",
       "<!-- f1&#45;&gt;X_8^1 -->\n",
       "<g id=\"edge25\" class=\"edge\">\n",
       "<title>f1&#45;&gt;X_8^1</title>\n",
       "<path fill=\"none\" stroke=\"#e1e1ff\" d=\"M640.2,-35.55C634.48,-56.27 624.98,-90.68 618.32,-114.81\"/>\n",
       "<polygon fill=\"#e1e1ff\" stroke=\"#e1e1ff\" points=\"614.94,-113.88 615.65,-124.45 621.69,-115.74 614.94,-113.88\"/>\n",
       "</g>\n",
       "<!-- f0&#45;&gt;X_0^2 -->\n",
       "<g id=\"edge28\" class=\"edge\">\n",
       "<title>f0&#45;&gt;X_0^2</title>\n",
       "<path fill=\"none\" stroke=\"#ffe1e1\" d=\"M280.92,-22.92C232.03,-32.32 126.57,-52.6 70.88,-63.31\"/>\n",
       "<polygon fill=\"#ffe1e1\" stroke=\"#ffe1e1\" points=\"69.92,-59.93 60.76,-65.26 71.25,-66.81 69.92,-59.93\"/>\n",
       "</g>\n",
       "<!-- f0&#45;&gt;X_1^1 -->\n",
       "<g id=\"edge4\" class=\"edge\">\n",
       "<title>f0&#45;&gt;X_1^1</title>\n",
       "<path fill=\"none\" stroke=\"#000076\" d=\"M283.69,-27.29C245.37,-47.47 169.7,-94.28 130.88,-121.67\"/>\n",
       "<polygon fill=\"#000076\" stroke=\"#000076\" points=\"128.8,-118.84 122.73,-127.53 132.89,-124.53 128.8,-118.84\"/>\n",
       "</g>\n",
       "<!-- f0&#45;&gt;X_1^2 -->\n",
       "<g id=\"edge31\" class=\"edge\">\n",
       "<title>f0&#45;&gt;X_1^2</title>\n",
       "<path fill=\"none\" stroke=\"#ffa5a5\" d=\"M281.66,-24.53C246.22,-33.8 181.75,-50.65 141.75,-61.11\"/>\n",
       "<polygon fill=\"#ffa5a5\" stroke=\"#ffa5a5\" points=\"140.69,-57.77 131.9,-63.68 142.46,-64.54 140.69,-57.77\"/>\n",
       "</g>\n",
       "<!-- f0&#45;&gt;X_2^2 -->\n",
       "<g id=\"edge34\" class=\"edge\">\n",
       "<title>f0&#45;&gt;X_2^2</title>\n",
       "<path fill=\"none\" stroke=\"#ff6969\" d=\"M283.8,-27.38C263.54,-35.65 233.95,-47.73 211.33,-56.96\"/>\n",
       "<polygon fill=\"#ff6969\" stroke=\"#ff6969\" points=\"209.73,-53.83 201.8,-60.85 212.38,-60.31 209.73,-53.83\"/>\n",
       "</g>\n",
       "<!-- f0&#45;&gt;X_3^1 -->\n",
       "<g id=\"edge10\" class=\"edge\">\n",
       "<title>f0&#45;&gt;X_3^1</title>\n",
       "<path fill=\"none\" stroke=\"#0000ca\" d=\"M299.2,-35.19C289.8,-55.96 273.93,-91.02 262.92,-115.34\"/>\n",
       "<polygon fill=\"#0000ca\" stroke=\"#0000ca\" points=\"259.61,-114.16 258.68,-124.72 265.99,-117.05 259.61,-114.16\"/>\n",
       "</g>\n",
       "<!-- f0&#45;&gt;X_5^1 -->\n",
       "<g id=\"edge16\" class=\"edge\">\n",
       "<title>f0&#45;&gt;X_5^1</title>\n",
       "<path fill=\"none\" stroke=\"#2d2dff\" d=\"M318.68,-34.41C333.62,-55.6 359.67,-92.54 377.06,-117.2\"/>\n",
       "<polygon fill=\"#2d2dff\" stroke=\"#2d2dff\" points=\"374.42,-119.52 383.04,-125.68 380.14,-115.49 374.42,-119.52\"/>\n",
       "</g>\n",
       "<!-- f0&#45;&gt;X_5^2 -->\n",
       "<g id=\"edge43\" class=\"edge\">\n",
       "<title>f0&#45;&gt;X_5^2</title>\n",
       "<path fill=\"none\" stroke=\"#da0000\" d=\"M327.37,-30.04C338.77,-36.85 353.19,-45.45 365.75,-52.96\"/>\n",
       "<polygon fill=\"#da0000\" stroke=\"#da0000\" points=\"364.12,-56.06 374.5,-58.18 367.71,-50.05 364.12,-56.06\"/>\n",
       "</g>\n",
       "<!-- f2&#45;&gt;X_2^1 -->\n",
       "<g id=\"edge7\" class=\"edge\">\n",
       "<title>f2&#45;&gt;X_2^1</title>\n",
       "<path fill=\"none\" stroke=\"#0000a0\" d=\"M176.67,-249.61C180.16,-229.06 182.66,-194.78 182.64,-170.5\"/>\n",
       "<polygon fill=\"#0000a0\" stroke=\"#0000a0\" points=\"186.14,-170.38 182.46,-160.45 179.14,-170.51 186.14,-170.38\"/>\n",
       "</g>\n",
       "<!-- f2&#45;&gt;X_3^2 -->\n",
       "<g id=\"edge37\" class=\"edge\">\n",
       "<title>f2&#45;&gt;X_3^2</title>\n",
       "<path fill=\"none\" stroke=\"#ff2d2d\" d=\"M177.72,-249.71C191.77,-215.19 223.16,-138.05 239.83,-97.06\"/>\n",
       "<polygon fill=\"#ff2d2d\" stroke=\"#ff2d2d\" points=\"243.11,-98.28 243.64,-87.7 236.63,-95.64 243.11,-98.28\"/>\n",
       "</g>\n",
       "<!-- f2&#45;&gt;X_4^1 -->\n",
       "<g id=\"edge13\" class=\"edge\">\n",
       "<title>f2&#45;&gt;X_4^1</title>\n",
       "<path fill=\"none\" stroke=\"#0000f4\" d=\"M187.77,-253.1C214.59,-231.08 266.58,-188.38 297.62,-162.89\"/>\n",
       "<polygon fill=\"#0000f4\" stroke=\"#0000f4\" points=\"299.9,-165.54 305.41,-156.49 295.46,-160.13 299.9,-165.54\"/>\n",
       "</g>\n",
       "<!-- f2&#45;&gt;X_6^1 -->\n",
       "<g id=\"edge19\" class=\"edge\">\n",
       "<title>f2&#45;&gt;X_6^1</title>\n",
       "<path fill=\"none\" stroke=\"#6969ff\" d=\"M193.85,-257.39C246.28,-235.27 373.92,-181.42 434.19,-155.99\"/>\n",
       "<polygon fill=\"#6969ff\" stroke=\"#6969ff\" points=\"435.75,-159.13 443.61,-152.02 433.03,-152.68 435.75,-159.13\"/>\n",
       "</g>\n",
       "<!-- f2&#45;&gt;X_7^1 -->\n",
       "<g id=\"edge22\" class=\"edge\">\n",
       "<title>f2&#45;&gt;X_7^1</title>\n",
       "<path fill=\"none\" stroke=\"#a5a5ff\" d=\"M194.77,-258.99C258.47,-237.37 431.19,-178.76 504.79,-153.78\"/>\n",
       "<polygon fill=\"#a5a5ff\" stroke=\"#a5a5ff\" points=\"506.15,-157.02 514.49,-150.49 503.9,-150.39 506.15,-157.02\"/>\n",
       "</g>\n",
       "<!-- f2&#45;&gt;X_8^2 -->\n",
       "<g id=\"edge52\" class=\"edge\">\n",
       "<title>f2&#45;&gt;X_8^2</title>\n",
       "<path fill=\"none\" stroke=\"#800000\" d=\"M193.04,-257.15C265.58,-224.7 494.02,-122.49 578.72,-84.59\"/>\n",
       "<polygon fill=\"#800000\" stroke=\"#800000\" points=\"580.39,-87.68 588.09,-80.4 577.53,-81.29 580.39,-87.68\"/>\n",
       "</g>\n",
       "</g>\n",
       "</svg>\n"
      ],
      "text/plain": [
       "<graphviz.graphs.Digraph at 0x7fbacf84c940>"
      ]
     },
     "execution_count": 24,
     "metadata": {},
     "output_type": "execute_result"
    }
   ],
   "source": [
    "plot_yisong_process(params)"
   ]
  },
  {
   "cell_type": "markdown",
   "id": "1b45d663",
   "metadata": {},
   "source": [
    "## Causality"
   ]
  },
  {
   "cell_type": "markdown",
   "id": "2261a136",
   "metadata": {},
   "source": [
    "Inference on a Yisong Process will produce a posterior over possible model structures that could have produced the given observations. We can use this posterior to ask questions about whether one variable \"causes\" another.\n",
    "\n",
    "One way to interpret the question \"Does $A$ cause $B$?\" is \"Is there a directed path between $A$ and $B$ in the true model?\". We can represent this random indicator variable, called the *causal effect*, as $Q$. \n",
    "\n",
    "A more conventional interpretation of the question is \"Would setting the variable $A$ to $c$ lead us to observe different values of $B$?\" Specifically, assuming we observe $N$ samples of variable $B$, we let the causal effect $Q = \\frac{1}{N}\\sum_{i=1}^N B_i - B_i'$, where $B'$ is the variable given the intervention.\n",
    "\n",
    "To find a posterior on $Q$, we can sample structures from the Yisong Process posterior and compute the value of $Q$ on each sample. If these samples are concentrated around $0$, we can be confident that there's no causal link. If the posterior is concentrated at a higher value, we can be confident that a causal link exits. But if we get a diffuse prior, we know that we need more data before we can make any kind of conclusion. "
   ]
  },
  {
   "cell_type": "markdown",
   "id": "f0cfd90c",
   "metadata": {},
   "source": [
    "## Variational Inference"
   ]
  },
  {
   "cell_type": "markdown",
   "id": "5704e40b",
   "metadata": {},
   "source": [
    "I think hand tuned RJMH with proposal distributions informed by the progam synthesis world will work better than variational inference. But here's a baseline."
   ]
  },
  {
   "cell_type": "code",
   "execution_count": 12,
   "id": "329edb3d",
   "metadata": {
    "ExecuteTime": {
     "end_time": "2021-11-17T19:46:14.916253Z",
     "start_time": "2021-11-17T19:46:14.891928Z"
    }
   },
   "outputs": [],
   "source": [
    "def guide(data):  \n",
    "    T, M = data.shape\n",
    "    N = (T-1) * M\n",
    "    gamma_post = pyro.param('γ_post', lambda: dist.Uniform(0, 2).sample([G-1]), constraint=constraints.positive)\n",
    "    alpha_post = pyro.param('α_post', lambda: dist.Uniform(0, 2).sample([T-2]), constraint=constraints.positive)\n",
    "    z_prior = pyro.param('z_prior', lambda: dist.Dirichlet(torch.ones(G)).sample([N]), constraint=constraints.simplex)\n",
    "    \n",
    "    ts = [pyro.param(f\"ts{i}\", lambda: dist.Dirichlet(torch.ones(i+1)).sample([A, M]), constraint=constraints.simplex) for i in range(T-1)]\n",
    "    time_stack = [F.pad(ts[i], (0, T - i - 1)) for i in range(T-1)]\n",
    "    time_weights = torch.stack(time_stack, dim=-2).view(A, N, T)\n",
    "\n",
    "    theta_post = pyro.param('theta_prior',\n",
    "      lambda: dist.Dirichlet(torch.ones(M)).sample([G]), constraint=constraints.simplex)\n",
    "    arg_weights = pyro.param('arg_weights',\n",
    "      lambda: dist.Dirichlet(torch.ones(M)).sample([A, N]), constraint=constraints.simplex)\n",
    "    \n",
    "    with pyro.plate(\"Beta\", G-1):\n",
    "        beta = pyro.sample(\"beta\", dist.Beta(1, gamma_post))\n",
    "    obs = pyro.plate(\"obs\", N, dim=-1)\n",
    "    with obs:\n",
    "        z = pyro.sample(\"z\", dist.Categorical(z_prior))\n",
    "    with pyro.plate(\"Beta2\", T - 2):\n",
    "        arg_beta = pyro.sample(\"beta2\", dist.Beta(1, alpha_post))\n",
    "    with pyro.plate(\"functions\", G):\n",
    "        θ = pyro.sample(\"θ\", dist.Delta(theta_post).to_event(1))\n",
    "    with obs:\n",
    "        with pyro.plate(\"nth_arg\", A):\n",
    "            pyro.sample(\"a\", dist.Categorical(time_weights))\n",
    "            pyro.sample(\"b\", dist.Categorical(arg_weights))"
   ]
  },
  {
   "cell_type": "code",
   "execution_count": null,
   "id": "1c0903d3",
   "metadata": {
    "ExecuteTime": {
     "end_time": "2021-11-17T19:47:01.611052Z",
     "start_time": "2021-11-17T19:46:59.681862Z"
    }
   },
   "outputs": [],
   "source": [
    "pyro.clear_param_store()\n",
    "elbo = Trace_ELBO(num_particles=100, vectorize_particles=True, max_plate_nesting=2)\n",
    "optimizer = Adam({\"lr\": 1e-3, \"betas\": (0.90, 0.999)})\n",
    "svi = SVI(likelihood, guide, optimizer, loss=elbo)\n",
    "for epoch in range(80):\n",
    "    loss = svi.step(data)\n",
    "    print(loss)"
   ]
  },
  {
   "cell_type": "markdown",
   "id": "85ddd4a4",
   "metadata": {},
   "source": [
    "## Extensions"
   ]
  },
  {
   "cell_type": "markdown",
   "id": "c36b79aa",
   "metadata": {},
   "source": [
    "- Perhaps the argument-time distributions should be separate for each function, rather than shared\n",
    "- Perhaps we should limit the number of time-steps back we can draw function arguments from"
   ]
  },
  {
   "cell_type": "markdown",
   "id": "1ba64b9c",
   "metadata": {},
   "source": [
    "## Applications"
   ]
  },
  {
   "cell_type": "markdown",
   "id": "a0d2228d",
   "metadata": {},
   "source": [
    "- Cell development? Say we look at single cell RNA sequencing data over the course of cell differentiation. We see what genes are being expressed at each point in time. The 'functions' we find will show how genes interact to inhibit or accelerate the expression of other genes. The problem with this is that there may not be much to be gained from it being non-Markovian. The non-Markovian assumption really means that there's some latent variable that gets influenced in a previous timestep by something we can observe. But with SSRNAseq, we observe everything. So this technique might be unnecessarily complicated. But perhaps we do it at a coarser level: the presence or absence of certain key signifiers in the observed mRNA at each step. Doing inference with ALL the data would probably be intractable anyway, so focusing on a coarsening would make sense."
   ]
  },
  {
   "cell_type": "markdown",
   "id": "49b096a0",
   "metadata": {},
   "source": [
    "- Language models? This thing feels an awful lot like a transformer, so we might take inspiration from the nlp world. What if the variables at each step are the vector embeddings of a word, and time is the order of words? Here, we'd allow the variable at time $t$ to draw from variables at times $<t$ and $>t$. The results might be nicely interpretable. "
   ]
  },
  {
   "cell_type": "markdown",
   "id": "60fe0036",
   "metadata": {},
   "source": [
    "- Patient records? Say we observe patient data over time. We might be able to derive causal relationships about how medical conditions develop over time. This data would likely be extremely sparse, so gaussian processes wouldn't be a great fit; you can't find distances between points with unknown coordinates. Contingency tables, on the other hand, would make it easy to marginalize over missing observations. "
   ]
  }
 ],
 "metadata": {
  "kernelspec": {
   "display_name": "Python 3 (ipykernel)",
   "language": "python",
   "name": "python3"
  },
  "language_info": {
   "codemirror_mode": {
    "name": "ipython",
    "version": 3
   },
   "file_extension": ".py",
   "mimetype": "text/x-python",
   "name": "python",
   "nbconvert_exporter": "python",
   "pygments_lexer": "ipython3",
   "version": "3.9.7"
  }
 },
 "nbformat": 4,
 "nbformat_minor": 5
}
