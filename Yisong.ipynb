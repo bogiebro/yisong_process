{
 "cells": [
  {
   "cell_type": "code",
   "execution_count": 1,
   "id": "911613f0",
   "metadata": {
    "ExecuteTime": {
     "end_time": "2021-11-17T19:44:57.317836Z",
     "start_time": "2021-11-17T19:44:56.424608Z"
    }
   },
   "outputs": [],
   "source": [
    "import torch\n",
    "import torch.nn.functional as F\n",
    "from torch.distributions import constraints\n",
    "\n",
    "import pyro\n",
    "import pyro.distributions as dist\n",
    "from pyro.infer import Predictive, SVI, Trace_ELBO, TraceGraph_ELBO\n",
    "from pyro.optim import Adam\n",
    "from pyro import poutine\n",
    "\n",
    "from gpytorch.kernels import RBFKernel, ScaleKernel\n",
    "import gpytorch.distributions as gdist\n",
    "import gpytorch as gp\n",
    "\n",
    "import matplotlib.pyplot as plt\n",
    "import matplotlib\n",
    "import graphviz\n",
    "import pdb\n",
    "from pmextract import extract"
   ]
  },
  {
   "cell_type": "markdown",
   "id": "17d69b23",
   "metadata": {},
   "source": [
    "## Bayesian Library Learning"
   ]
  },
  {
   "cell_type": "markdown",
   "id": "313bb1ae",
   "metadata": {},
   "source": [
    "We are given timeseries observations $x_i^t$, where the subscript $i$ indicates a random variable and superscript $t$ indicates a discrete time step. We want to find a small set of stochastic functions $f_1, f_2, \\dotsc$ such that each $x_i^t$ is the result of applying some $f_j$ to variables $X_k^l$, where $l < t$. "
   ]
  },
  {
   "cell_type": "markdown",
   "id": "a0df3196",
   "metadata": {},
   "source": [
    "We can approach the problem using Bayesian nonparametrics, and assume that the function generating each variable is sampled from a Dirichlet process prior. Let $z_i^t$ be the index of the function that generates observation $x_i^t$. Our model can be summarized as follows:"
   ]
  },
  {
   "cell_type": "markdown",
   "id": "3c7e62de",
   "metadata": {},
   "source": [
    "$$\n",
    "\\begin{align*}\n",
    "z_i^t &\\sim \\text{Dirichlet Process}(\\gamma) \\\\\n",
    "\\theta_{z_i^t} &\\sim \\text{Dirichlet}(1, 1, \\dotsc) \\\\ \n",
    "a_i^t(n) &\\sim \\text{Dirichlet Process}(\\alpha) \\\\\n",
    "b_i^t &\\sim \\text{Categorical}(\\theta_{z_i^t}) \\\\\n",
    "f_n &\\sim \\text{Gaussian Process}(\\mu, \\Sigma) \\\\ \n",
    "x_i^t &\\sim f_{z_i^t}\\left(x_{b_i^t(1)}^{a_i^t(1)}, x_{b_i^t(2)}^{a_i^t(2)}, \\dotsc\\right)\n",
    "\\end{align*}\n",
    "$$"
   ]
  },
  {
   "cell_type": "code",
   "execution_count": 37,
   "id": "b19cc73c",
   "metadata": {
    "ExecuteTime": {
     "end_time": "2021-11-17T20:52:37.413932Z",
     "start_time": "2021-11-17T20:52:37.392704Z"
    }
   },
   "outputs": [],
   "source": [
    "G = 3 # max number of functions in variational posterior\n",
    "A = 2 # max number of arguments per function\n",
    "γ = 2.0 # concentration parameter for function DP\n",
    "α = 2.0 # concentration parameter for how old your args should be"
   ]
  },
  {
   "cell_type": "code",
   "execution_count": 38,
   "id": "ce43d236",
   "metadata": {
    "ExecuteTime": {
     "end_time": "2021-11-17T20:52:44.014285Z",
     "start_time": "2021-11-17T20:52:43.997214Z"
    }
   },
   "outputs": [],
   "source": [
    "def mix_weights(beta):\n",
    "    \"Turn iid Beta samples into the weights of a categorical (Stick Breaking DP)\"\n",
    "    beta1m_cumprod = (1 - beta).cumprod(-1)\n",
    "    return F.pad(beta, (0, 1), value=1) * F.pad(beta1m_cumprod, (1, 0), value=1)"
   ]
  },
  {
   "cell_type": "code",
   "execution_count": 39,
   "id": "0233f185",
   "metadata": {
    "ExecuteTime": {
     "end_time": "2021-11-17T20:52:44.046192Z",
     "start_time": "2021-11-17T20:52:44.017164Z"
    }
   },
   "outputs": [],
   "source": [
    "def model(T, M):\n",
    "    \"Sample a Yisong process for T timesteps and M variables\"\n",
    "    N = (T-1) * M\n",
    "    with pyro.plate(\"Beta\", G-1):\n",
    "        beta = pyro.sample(\"beta\", dist.Beta(1, γ))\n",
    "    obs = pyro.plate(\"obs\", N, dim=-1)\n",
    "    with obs:\n",
    "        z = pyro.sample(\"z\", dist.Categorical(mix_weights(beta).unsqueeze(-2)))\n",
    "    with pyro.plate(\"Beta2\", T - 2):\n",
    "        arg_beta = pyro.sample(\"beta2\", dist.Beta(1, α))\n",
    "    with pyro.plate(\"functions\", G):\n",
    "        θ = pyro.sample(\"θ\", dist.Dirichlet(torch.ones(M)))\n",
    "    time_stack = [F.pad(mix_weights(arg_beta[..., :i]), (0, T - i - 1)) for i in range(T-1)]\n",
    "    time_weights = torch.stack(time_stack, dim=-2)\n",
    "    with obs as varindex:\n",
    "        t = varindex.div(M, rounding_mode='trunc')\n",
    "        with pyro.plate(\"nth_arg\", A):\n",
    "            full_time_weights = time_weights[...,t,:]\n",
    "            # 21(batch) x 1(arg) x 18(obs) x 3(time options)\n",
    "            a = pyro.sample(\"a\", dist.Categorical(full_time_weights))\n",
    "            expanded_z = z.unsqueeze(-1).expand((*z.shape, M))\n",
    "            var_weights = θ.gather(-2, expanded_z)\n",
    "            b = pyro.sample(\"b\", dist.Categorical(var_weights))\n",
    "        return z, a, b"
   ]
  },
  {
   "cell_type": "markdown",
   "id": "b9e4c869",
   "metadata": {},
   "source": [
    "## Function Definitions"
   ]
  },
  {
   "cell_type": "markdown",
   "id": "331e5dcc",
   "metadata": {},
   "source": [
    "The choice of functions $f_i$ is arbitrary. Here, I experiment with using Gaussian Processes, but it would be easy to substiute neural nets or contingency tables. "
   ]
  },
  {
   "cell_type": "code",
   "execution_count": 40,
   "id": "0bf233f0",
   "metadata": {
    "ExecuteTime": {
     "end_time": "2021-11-17T20:52:44.060076Z",
     "start_time": "2021-11-17T20:52:44.047793Z"
    }
   },
   "outputs": [],
   "source": [
    "class GPKernel(torch.nn.Module):\n",
    "    def __init__(self):\n",
    "        super().__init__()\n",
    "        self.kernel = ScaleKernel(RBFKernel())\n",
    "    def forward(self, *args):\n",
    "        return self.kernel(*args)"
   ]
  },
  {
   "cell_type": "code",
   "execution_count": 41,
   "id": "074cbf70",
   "metadata": {
    "ExecuteTime": {
     "end_time": "2021-11-17T20:52:44.076428Z",
     "start_time": "2021-11-17T20:52:44.062268Z"
    }
   },
   "outputs": [],
   "source": [
    "kernel = GPKernel()"
   ]
  },
  {
   "cell_type": "markdown",
   "id": "67f30a13",
   "metadata": {},
   "source": [
    "## Yisong Process Likelihood"
   ]
  },
  {
   "cell_type": "markdown",
   "id": "38722a95",
   "metadata": {},
   "source": [
    "I evaluate the GP likelihood analytically here. For real datasets, an approximation (either with variational inference or SKIP) will be necessary."
   ]
  },
  {
   "cell_type": "code",
   "execution_count": 42,
   "id": "bc16ed29",
   "metadata": {
    "ExecuteTime": {
     "end_time": "2021-11-17T20:52:44.091698Z",
     "start_time": "2021-11-17T20:52:44.077675Z"
    }
   },
   "outputs": [],
   "source": [
    "def likelihood(data):\n",
    "    pyro.module(\"kernel\", kernel)\n",
    "    T, M = data.shape # timesteps by variables\n",
    "    z, a, b = model(T, M)\n",
    "    gp_in = data[a, b].transpose(-1, -2)\n",
    "    gp_out = data[:-1].view(-1).unsqueeze(-2).unsqueeze(-2).unsqueeze(-2)\n",
    "    k_xx = kernel(gp_in).add_diag(torch.tensor(0.1))\n",
    "    mu = pyro.param(\"mu\", lambda: torch.randn(G))\n",
    "    gp = gdist.MultivariateNormal(mu[z].unsqueeze(-2), k_xx.unsqueeze(-3).unsqueeze(-3))\n",
    "    pyro.sample(f\"data\", gp, obs=gp_out.expand(gp.shape()))"
   ]
  },
  {
   "cell_type": "markdown",
   "id": "98bdd5eb",
   "metadata": {},
   "source": [
    "## Generate Fake Function Data"
   ]
  },
  {
   "cell_type": "markdown",
   "id": "b14c9a9e",
   "metadata": {},
   "source": [
    "This class allows us to construct the function values one at a time. \n",
    "TODO: optimize this"
   ]
  },
  {
   "cell_type": "code",
   "execution_count": 43,
   "id": "f57cfef7",
   "metadata": {
    "ExecuteTime": {
     "end_time": "2021-11-17T20:52:44.109076Z",
     "start_time": "2021-11-17T20:52:44.093238Z"
    }
   },
   "outputs": [],
   "source": [
    "class IncrementalGP:\n",
    "    def __init__(self):\n",
    "        self.samples = []\n",
    "        self.inputs = []\n",
    "        self.k_xx = None\n",
    "        self.diag = gp.lazy.DiagLazyTensor(torch.ones(1))\n",
    "        self.orig_mean = torch.randn(1) * 2\n",
    "        \n",
    "    def sample(self, s):\n",
    "        if self.k_xx is None:\n",
    "            sample = torch.randn(1)\n",
    "            self.k_xx = self.diag\n",
    "        else:\n",
    "            k_sx = kernel(s.unsqueeze(0), torch.stack(self.inputs))\n",
    "            covar = 1.0 - self.k_xx.inv_quad(k_sx[0])\n",
    "            mean = self.orig_mean + k_sx @ self.k_xx.inv_matmul(torch.tensor(self.samples))\n",
    "            sample = (mean + torch.randn(1) * covar).detach()\n",
    "            self.k_xx = self.k_xx.cat_rows(k_sx, self.diag)\n",
    "        self.samples.append(sample)\n",
    "        self.inputs.append(s)\n",
    "        return sample"
   ]
  },
  {
   "cell_type": "markdown",
   "id": "ca5f1d1a",
   "metadata": {
    "heading_collapsed": true
   },
   "source": [
    "### Example"
   ]
  },
  {
   "cell_type": "code",
   "execution_count": 13,
   "id": "5225cbab",
   "metadata": {
    "ExecuteTime": {
     "end_time": "2021-11-15T19:50:36.791097Z",
     "start_time": "2021-11-15T19:50:36.777815Z"
    },
    "hidden": true
   },
   "outputs": [],
   "source": [
    "igp = IncrementalGP()"
   ]
  },
  {
   "cell_type": "code",
   "execution_count": 19,
   "id": "ace611e8",
   "metadata": {
    "ExecuteTime": {
     "end_time": "2021-11-15T19:51:30.494281Z",
     "start_time": "2021-11-15T19:51:22.929571Z"
    },
    "hidden": true
   },
   "outputs": [],
   "source": [
    "samples = torch.cat([igp.sample(torch.tensor(i/10).float()) for i in range(40)])"
   ]
  },
  {
   "cell_type": "code",
   "execution_count": 20,
   "id": "17bdf684",
   "metadata": {
    "ExecuteTime": {
     "end_time": "2021-11-15T19:51:31.324268Z",
     "start_time": "2021-11-15T19:51:31.229664Z"
    },
    "hidden": true
   },
   "outputs": [
    {
     "data": {
      "text/plain": [
       "<matplotlib.collections.PathCollection at 0x7f80b40f8e20>"
      ]
     },
     "execution_count": 20,
     "metadata": {},
     "output_type": "execute_result"
    },
    {
     "data": {
      "image/png": "[encoded data removed]",
      "text/plain": [
       "<Figure size 432x288 with 1 Axes>"
      ]
     },
     "metadata": {
      "needs_background": "light"
     },
     "output_type": "display_data"
    }
   ],
   "source": [
    "plt.scatter(torch.arange(40), samples)"
   ]
  },
  {
   "cell_type": "markdown",
   "id": "c58f29e7",
   "metadata": {},
   "source": [
    "## Generate Fake Yisong Process Data"
   ]
  },
  {
   "cell_type": "code",
   "execution_count": 44,
   "id": "1f4047d8",
   "metadata": {
    "ExecuteTime": {
     "end_time": "2021-11-17T20:52:52.567740Z",
     "start_time": "2021-11-17T20:52:52.554373Z"
    }
   },
   "outputs": [],
   "source": [
    "def generate_data(T, M):\n",
    "    from_function, arg_times, arg_vars = model(T, M)\n",
    "    num_funcs = from_function.max() + 1\n",
    "    funcs = [IncrementalGP() for _ in range(num_funcs)]\n",
    "    generated = [torch.randn(M)]\n",
    "    for t in range(T-1):\n",
    "        built = []\n",
    "        for v in range(M):\n",
    "            n = T*t + v\n",
    "            f = funcs[from_function[n]]\n",
    "            args = [generated[arg_times[i][n]][arg_vars[i][n]]\n",
    "                    for i in range(A)]\n",
    "            built.append(f.sample(torch.tensor(args)))            \n",
    "        generated.append(torch.tensor(built))\n",
    "    return torch.stack(generated), {\n",
    "        'num_funcs': num_funcs,\n",
    "        'from_function': from_function,\n",
    "        'arg_times': arg_times,\n",
    "        'arg_vars': arg_vars,\n",
    "        'T': T,\n",
    "        'M': M}"
   ]
  },
  {
   "cell_type": "code",
   "execution_count": 45,
   "id": "daaba5da",
   "metadata": {
    "ExecuteTime": {
     "end_time": "2021-11-17T20:52:52.709348Z",
     "start_time": "2021-11-17T20:52:52.570385Z"
    }
   },
   "outputs": [],
   "source": [
    "data, params = generate_data(3, 9)"
   ]
  },
  {
   "cell_type": "markdown",
   "id": "5b06d7e2",
   "metadata": {},
   "source": [
    "## Plot Generated Factor Graphs"
   ]
  },
  {
   "cell_type": "markdown",
   "id": "38b7f1ea",
   "metadata": {},
   "source": [
    "Here's a sample from a Yisong Process. Different colors indicate different calls to a function. "
   ]
  },
  {
   "cell_type": "code",
   "execution_count": 46,
   "id": "d0ea240b",
   "metadata": {
    "ExecuteTime": {
     "end_time": "2021-11-17T20:52:52.732887Z",
     "start_time": "2021-11-17T20:52:52.711007Z"
    }
   },
   "outputs": [],
   "source": [
    "cmap = matplotlib.cm.get_cmap('Accent', G)\n",
    "colors = [matplotlib.colors.rgb2hex(cmap(i)) for i in range(cmap.N)]"
   ]
  },
  {
   "cell_type": "code",
   "execution_count": 47,
   "id": "7eb79ee6",
   "metadata": {
    "ExecuteTime": {
     "end_time": "2021-11-17T20:52:52.749437Z",
     "start_time": "2021-11-17T20:52:52.734749Z"
    }
   },
   "outputs": [],
   "source": [
    "def plot_yisong_process2(params):\n",
    "    dot = graphviz.Digraph(engine='fdp', format='svg')\n",
    "    with dot.subgraph(name='cluster_x') as c:\n",
    "        for m in range(params['M']):\n",
    "            for t in range(params['T']):\n",
    "                c.node(f\"X_{m}^{t}\", pos=f\"{m},{-t}!\", label=f\"<X<sub>{m}</sub><sup>{t}</sup>>\")\n",
    "    for n, f in enumerate(params['from_function']):\n",
    "        c = colors[f]\n",
    "        i = n % params['M']\n",
    "        t = n // params['M']\n",
    "        for k in range(A):\n",
    "            dot.edge(f\"X_{params['arg_vars'][k, n]}^{params['arg_times'][k, n]}\", f\"X_{i}^{t+1}\", color=c)\n",
    "    return dot"
   ]
  },
  {
   "cell_type": "code",
   "execution_count": 48,
   "id": "00ec0f4f",
   "metadata": {
    "ExecuteTime": {
     "end_time": "2021-11-17T20:52:52.809701Z",
     "start_time": "2021-11-17T20:52:52.752127Z"
    }
   },
   "outputs": [
    {
     "data": {
      "image/svg+xml": [
       "<?xml version=\"1.0\" encoding=\"UTF-8\" standalone=\"no\"?>\n",
       "<!DOCTYPE svg PUBLIC \"-//W3C//DTD SVG 1.1//EN\"\n",
       " \"http://www.w3.org/Graphics/SVG/1.1/DTD/svg11.dtd\">\n",
       "<!-- Generated by graphviz version 2.49.3 (0)\n",
       " -->\n",
       "<!-- Pages: 1 -->\n",
       "<svg width=\"654pt\" height=\"204pt\"\n",
       " viewBox=\"0.00 0.00 654.00 204.00\" xmlns=\"http://www.w3.org/2000/svg\" xmlns:xlink=\"http://www.w3.org/1999/xlink\">\n",
       "<g id=\"graph0\" class=\"graph\" transform=\"scale(1 1) rotate(0) translate(4 200)\">\n",
       "<polygon fill=\"white\" stroke=\"transparent\" points=\"-4,4 -4,-200 650,-200 650,4 -4,4\"/>\n",
       "<g id=\"clust1\" class=\"cluster\">\n",
       "<title>cluster_x</title>\n",
       "<polygon fill=\"none\" stroke=\"black\" points=\"0.24,0.36 0.24,-195.64 646.24,-195.64 646.24,0.36 0.24,0.36\"/>\n",
       "</g>\n",
       "<!-- X_0^0 -->\n",
       "<g id=\"node1\" class=\"node\">\n",
       "<title>X_0^0</title>\n",
       "<ellipse fill=\"none\" stroke=\"black\" cx=\"35.24\" cy=\"-169.64\" rx=\"27\" ry=\"18\"/>\n",
       "<text text-anchor=\"start\" x=\"23.24\" y=\"-166.94\" font-family=\"Times,serif\" font-size=\"14.00\">X</text>\n",
       "<text text-anchor=\"start\" x=\"33.24\" y=\"-166.94\" font-family=\"Times,serif\" baseline-shift=\"sub\" font-size=\"14.00\">0</text>\n",
       "<text text-anchor=\"start\" x=\"40.24\" y=\"-166.94\" font-family=\"Times,serif\" baseline-shift=\"super\" font-size=\"14.00\">0</text>\n",
       "</g>\n",
       "<!-- X_0^1 -->\n",
       "<g id=\"node2\" class=\"node\">\n",
       "<title>X_0^1</title>\n",
       "<ellipse fill=\"none\" stroke=\"black\" cx=\"35.24\" cy=\"-97.64\" rx=\"27\" ry=\"18\"/>\n",
       "<text text-anchor=\"start\" x=\"23.24\" y=\"-94.94\" font-family=\"Times,serif\" font-size=\"14.00\">X</text>\n",
       "<text text-anchor=\"start\" x=\"33.24\" y=\"-94.94\" font-family=\"Times,serif\" baseline-shift=\"sub\" font-size=\"14.00\">0</text>\n",
       "<text text-anchor=\"start\" x=\"40.24\" y=\"-94.94\" font-family=\"Times,serif\" baseline-shift=\"super\" font-size=\"14.00\">1</text>\n",
       "</g>\n",
       "<!-- X_0^0&#45;&gt;X_0^1 -->\n",
       "<g id=\"edge2\" class=\"edge\">\n",
       "<title>X_0^0&#45;&gt;X_0^1</title>\n",
       "<path fill=\"none\" stroke=\"#666666\" d=\"M35.24,-151.47C35.24,-143.77 35.24,-134.62 35.24,-126.06\"/>\n",
       "<polygon fill=\"#666666\" stroke=\"#666666\" points=\"38.74,-126.05 35.24,-116.05 31.74,-126.05 38.74,-126.05\"/>\n",
       "</g>\n",
       "<!-- X_5^1 -->\n",
       "<g id=\"node17\" class=\"node\">\n",
       "<title>X_5^1</title>\n",
       "<ellipse fill=\"none\" stroke=\"black\" cx=\"395.24\" cy=\"-97.64\" rx=\"27\" ry=\"18\"/>\n",
       "<text text-anchor=\"start\" x=\"383.24\" y=\"-94.94\" font-family=\"Times,serif\" font-size=\"14.00\">X</text>\n",
       "<text text-anchor=\"start\" x=\"393.24\" y=\"-94.94\" font-family=\"Times,serif\" baseline-shift=\"sub\" font-size=\"14.00\">5</text>\n",
       "<text text-anchor=\"start\" x=\"400.24\" y=\"-94.94\" font-family=\"Times,serif\" baseline-shift=\"super\" font-size=\"14.00\">1</text>\n",
       "</g>\n",
       "<!-- X_0^0&#45;&gt;X_5^1 -->\n",
       "<g id=\"edge11\" class=\"edge\">\n",
       "<title>X_0^0&#45;&gt;X_5^1</title>\n",
       "<path fill=\"none\" stroke=\"#666666\" d=\"M61.13,-164.46C124.28,-151.83 286.38,-119.41 359.05,-104.88\"/>\n",
       "<polygon fill=\"#666666\" stroke=\"#666666\" points=\"359.98,-108.26 369.1,-102.87 358.61,-101.4 359.98,-108.26\"/>\n",
       "</g>\n",
       "<!-- X_6^1 -->\n",
       "<g id=\"node20\" class=\"node\">\n",
       "<title>X_6^1</title>\n",
       "<ellipse fill=\"none\" stroke=\"black\" cx=\"467.24\" cy=\"-97.64\" rx=\"27\" ry=\"18\"/>\n",
       "<text text-anchor=\"start\" x=\"455.24\" y=\"-94.94\" font-family=\"Times,serif\" font-size=\"14.00\">X</text>\n",
       "<text text-anchor=\"start\" x=\"465.24\" y=\"-94.94\" font-family=\"Times,serif\" baseline-shift=\"sub\" font-size=\"14.00\">6</text>\n",
       "<text text-anchor=\"start\" x=\"472.24\" y=\"-94.94\" font-family=\"Times,serif\" baseline-shift=\"super\" font-size=\"14.00\">1</text>\n",
       "</g>\n",
       "<!-- X_0^0&#45;&gt;X_6^1 -->\n",
       "<g id=\"edge13\" class=\"edge\">\n",
       "<title>X_0^0&#45;&gt;X_6^1</title>\n",
       "<path fill=\"none\" stroke=\"#666666\" d=\"M61.61,-165.25C135.73,-152.89 346.03,-117.84 430.98,-103.68\"/>\n",
       "<polygon fill=\"#666666\" stroke=\"#666666\" points=\"431.65,-107.12 440.94,-102.02 430.5,-100.22 431.65,-107.12\"/>\n",
       "</g>\n",
       "<!-- X_0^2 -->\n",
       "<g id=\"node3\" class=\"node\">\n",
       "<title>X_0^2</title>\n",
       "<ellipse fill=\"none\" stroke=\"black\" cx=\"35.24\" cy=\"-25.64\" rx=\"27\" ry=\"18\"/>\n",
       "<text text-anchor=\"start\" x=\"23.24\" y=\"-22.94\" font-family=\"Times,serif\" font-size=\"14.00\">X</text>\n",
       "<text text-anchor=\"start\" x=\"33.24\" y=\"-22.94\" font-family=\"Times,serif\" baseline-shift=\"sub\" font-size=\"14.00\">0</text>\n",
       "<text text-anchor=\"start\" x=\"40.24\" y=\"-22.94\" font-family=\"Times,serif\" baseline-shift=\"super\" font-size=\"14.00\">2</text>\n",
       "</g>\n",
       "<!-- X_0^1&#45;&gt;X_0^2 -->\n",
       "<g id=\"edge19\" class=\"edge\">\n",
       "<title>X_0^1&#45;&gt;X_0^2</title>\n",
       "<path fill=\"none\" stroke=\"#666666\" d=\"M35.24,-79.47C35.24,-71.77 35.24,-62.62 35.24,-54.06\"/>\n",
       "<polygon fill=\"#666666\" stroke=\"#666666\" points=\"38.74,-54.05 35.24,-44.05 31.74,-54.05 38.74,-54.05\"/>\n",
       "</g>\n",
       "<!-- X_5^2 -->\n",
       "<g id=\"node18\" class=\"node\">\n",
       "<title>X_5^2</title>\n",
       "<ellipse fill=\"none\" stroke=\"black\" cx=\"395.24\" cy=\"-25.64\" rx=\"27\" ry=\"18\"/>\n",
       "<text text-anchor=\"start\" x=\"383.24\" y=\"-22.94\" font-family=\"Times,serif\" font-size=\"14.00\">X</text>\n",
       "<text text-anchor=\"start\" x=\"393.24\" y=\"-22.94\" font-family=\"Times,serif\" baseline-shift=\"sub\" font-size=\"14.00\">5</text>\n",
       "<text text-anchor=\"start\" x=\"400.24\" y=\"-22.94\" font-family=\"Times,serif\" baseline-shift=\"super\" font-size=\"14.00\">2</text>\n",
       "</g>\n",
       "<!-- X_0^1&#45;&gt;X_5^2 -->\n",
       "<g id=\"edge30\" class=\"edge\">\n",
       "<title>X_0^1&#45;&gt;X_5^2</title>\n",
       "<path fill=\"none\" stroke=\"#666666\" d=\"M61.13,-92.46C124.28,-79.83 286.38,-47.41 359.05,-32.88\"/>\n",
       "<polygon fill=\"#666666\" stroke=\"#666666\" points=\"359.98,-36.26 369.1,-30.87 358.61,-29.4 359.98,-36.26\"/>\n",
       "</g>\n",
       "<!-- X_1^0 -->\n",
       "<g id=\"node4\" class=\"node\">\n",
       "<title>X_1^0</title>\n",
       "<ellipse fill=\"none\" stroke=\"black\" cx=\"107.24\" cy=\"-169.64\" rx=\"27\" ry=\"18\"/>\n",
       "<text text-anchor=\"start\" x=\"95.24\" y=\"-166.94\" font-family=\"Times,serif\" font-size=\"14.00\">X</text>\n",
       "<text text-anchor=\"start\" x=\"105.24\" y=\"-166.94\" font-family=\"Times,serif\" baseline-shift=\"sub\" font-size=\"14.00\">1</text>\n",
       "<text text-anchor=\"start\" x=\"112.24\" y=\"-166.94\" font-family=\"Times,serif\" baseline-shift=\"super\" font-size=\"14.00\">0</text>\n",
       "</g>\n",
       "<!-- X_7^1 -->\n",
       "<g id=\"node23\" class=\"node\">\n",
       "<title>X_7^1</title>\n",
       "<ellipse fill=\"none\" stroke=\"black\" cx=\"539.24\" cy=\"-97.64\" rx=\"27\" ry=\"18\"/>\n",
       "<text text-anchor=\"start\" x=\"527.24\" y=\"-94.94\" font-family=\"Times,serif\" font-size=\"14.00\">X</text>\n",
       "<text text-anchor=\"start\" x=\"537.24\" y=\"-94.94\" font-family=\"Times,serif\" baseline-shift=\"sub\" font-size=\"14.00\">7</text>\n",
       "<text text-anchor=\"start\" x=\"544.24\" y=\"-94.94\" font-family=\"Times,serif\" baseline-shift=\"super\" font-size=\"14.00\">1</text>\n",
       "</g>\n",
       "<!-- X_1^0&#45;&gt;X_7^1 -->\n",
       "<g id=\"edge16\" class=\"edge\">\n",
       "<title>X_1^0&#45;&gt;X_7^1</title>\n",
       "<path fill=\"none\" stroke=\"#666666\" d=\"M133.61,-165.25C207.73,-152.89 418.03,-117.84 502.98,-103.68\"/>\n",
       "<polygon fill=\"#666666\" stroke=\"#666666\" points=\"503.65,-107.12 512.94,-102.02 502.5,-100.22 503.65,-107.12\"/>\n",
       "</g>\n",
       "<!-- X_1^1 -->\n",
       "<g id=\"node5\" class=\"node\">\n",
       "<title>X_1^1</title>\n",
       "<ellipse fill=\"none\" stroke=\"black\" cx=\"107.24\" cy=\"-97.64\" rx=\"27\" ry=\"18\"/>\n",
       "<text text-anchor=\"start\" x=\"95.24\" y=\"-94.94\" font-family=\"Times,serif\" font-size=\"14.00\">X</text>\n",
       "<text text-anchor=\"start\" x=\"105.24\" y=\"-94.94\" font-family=\"Times,serif\" baseline-shift=\"sub\" font-size=\"14.00\">1</text>\n",
       "<text text-anchor=\"start\" x=\"112.24\" y=\"-94.94\" font-family=\"Times,serif\" baseline-shift=\"super\" font-size=\"14.00\">1</text>\n",
       "</g>\n",
       "<!-- X_7^2 -->\n",
       "<g id=\"node24\" class=\"node\">\n",
       "<title>X_7^2</title>\n",
       "<ellipse fill=\"none\" stroke=\"black\" cx=\"539.24\" cy=\"-25.64\" rx=\"27\" ry=\"18\"/>\n",
       "<text text-anchor=\"start\" x=\"527.24\" y=\"-22.94\" font-family=\"Times,serif\" font-size=\"14.00\">X</text>\n",
       "<text text-anchor=\"start\" x=\"537.24\" y=\"-22.94\" font-family=\"Times,serif\" baseline-shift=\"sub\" font-size=\"14.00\">7</text>\n",
       "<text text-anchor=\"start\" x=\"544.24\" y=\"-22.94\" font-family=\"Times,serif\" baseline-shift=\"super\" font-size=\"14.00\">2</text>\n",
       "</g>\n",
       "<!-- X_1^1&#45;&gt;X_7^2 -->\n",
       "<g id=\"edge34\" class=\"edge\">\n",
       "<title>X_1^1&#45;&gt;X_7^2</title>\n",
       "<path fill=\"none\" stroke=\"#7fc97f\" d=\"M133.61,-93.25C207.73,-80.89 418.03,-45.84 502.98,-31.68\"/>\n",
       "<polygon fill=\"#7fc97f\" stroke=\"#7fc97f\" points=\"503.65,-35.12 512.94,-30.02 502.5,-28.22 503.65,-35.12\"/>\n",
       "</g>\n",
       "<!-- X_8^2 -->\n",
       "<g id=\"node27\" class=\"node\">\n",
       "<title>X_8^2</title>\n",
       "<ellipse fill=\"none\" stroke=\"black\" cx=\"611.24\" cy=\"-25.64\" rx=\"27\" ry=\"18\"/>\n",
       "<text text-anchor=\"start\" x=\"599.24\" y=\"-22.94\" font-family=\"Times,serif\" font-size=\"14.00\">X</text>\n",
       "<text text-anchor=\"start\" x=\"609.24\" y=\"-22.94\" font-family=\"Times,serif\" baseline-shift=\"sub\" font-size=\"14.00\">8</text>\n",
       "<text text-anchor=\"start\" x=\"616.24\" y=\"-22.94\" font-family=\"Times,serif\" baseline-shift=\"super\" font-size=\"14.00\">2</text>\n",
       "</g>\n",
       "<!-- X_1^1&#45;&gt;X_8^2 -->\n",
       "<g id=\"edge36\" class=\"edge\">\n",
       "<title>X_1^1&#45;&gt;X_8^2</title>\n",
       "<path fill=\"none\" stroke=\"#7fc97f\" d=\"M133.98,-93.82C218.13,-81.8 477.65,-44.73 574.39,-30.91\"/>\n",
       "<polygon fill=\"#7fc97f\" stroke=\"#7fc97f\" points=\"575.16,-34.33 584.56,-29.45 574.17,-27.4 575.16,-34.33\"/>\n",
       "</g>\n",
       "<!-- X_1^2 -->\n",
       "<g id=\"node6\" class=\"node\">\n",
       "<title>X_1^2</title>\n",
       "<ellipse fill=\"none\" stroke=\"black\" cx=\"107.24\" cy=\"-25.64\" rx=\"27\" ry=\"18\"/>\n",
       "<text text-anchor=\"start\" x=\"95.24\" y=\"-22.94\" font-family=\"Times,serif\" font-size=\"14.00\">X</text>\n",
       "<text text-anchor=\"start\" x=\"105.24\" y=\"-22.94\" font-family=\"Times,serif\" baseline-shift=\"sub\" font-size=\"14.00\">1</text>\n",
       "<text text-anchor=\"start\" x=\"112.24\" y=\"-22.94\" font-family=\"Times,serif\" baseline-shift=\"super\" font-size=\"14.00\">2</text>\n",
       "</g>\n",
       "<!-- X_2^0 -->\n",
       "<g id=\"node7\" class=\"node\">\n",
       "<title>X_2^0</title>\n",
       "<ellipse fill=\"none\" stroke=\"black\" cx=\"179.24\" cy=\"-169.64\" rx=\"27\" ry=\"18\"/>\n",
       "<text text-anchor=\"start\" x=\"167.24\" y=\"-166.94\" font-family=\"Times,serif\" font-size=\"14.00\">X</text>\n",
       "<text text-anchor=\"start\" x=\"177.24\" y=\"-166.94\" font-family=\"Times,serif\" baseline-shift=\"sub\" font-size=\"14.00\">2</text>\n",
       "<text text-anchor=\"start\" x=\"184.24\" y=\"-166.94\" font-family=\"Times,serif\" baseline-shift=\"super\" font-size=\"14.00\">0</text>\n",
       "</g>\n",
       "<!-- X_2^1 -->\n",
       "<g id=\"node8\" class=\"node\">\n",
       "<title>X_2^1</title>\n",
       "<ellipse fill=\"none\" stroke=\"black\" cx=\"179.24\" cy=\"-97.64\" rx=\"27\" ry=\"18\"/>\n",
       "<text text-anchor=\"start\" x=\"167.24\" y=\"-94.94\" font-family=\"Times,serif\" font-size=\"14.00\">X</text>\n",
       "<text text-anchor=\"start\" x=\"177.24\" y=\"-94.94\" font-family=\"Times,serif\" baseline-shift=\"sub\" font-size=\"14.00\">2</text>\n",
       "<text text-anchor=\"start\" x=\"184.24\" y=\"-94.94\" font-family=\"Times,serif\" baseline-shift=\"super\" font-size=\"14.00\">1</text>\n",
       "</g>\n",
       "<!-- X_2^2 -->\n",
       "<g id=\"node9\" class=\"node\">\n",
       "<title>X_2^2</title>\n",
       "<ellipse fill=\"none\" stroke=\"black\" cx=\"179.24\" cy=\"-25.64\" rx=\"27\" ry=\"18\"/>\n",
       "<text text-anchor=\"start\" x=\"167.24\" y=\"-22.94\" font-family=\"Times,serif\" font-size=\"14.00\">X</text>\n",
       "<text text-anchor=\"start\" x=\"177.24\" y=\"-22.94\" font-family=\"Times,serif\" baseline-shift=\"sub\" font-size=\"14.00\">2</text>\n",
       "<text text-anchor=\"start\" x=\"184.24\" y=\"-22.94\" font-family=\"Times,serif\" baseline-shift=\"super\" font-size=\"14.00\">2</text>\n",
       "</g>\n",
       "<!-- X_3^0 -->\n",
       "<g id=\"node10\" class=\"node\">\n",
       "<title>X_3^0</title>\n",
       "<ellipse fill=\"none\" stroke=\"black\" cx=\"251.24\" cy=\"-169.64\" rx=\"27\" ry=\"18\"/>\n",
       "<text text-anchor=\"start\" x=\"239.24\" y=\"-166.94\" font-family=\"Times,serif\" font-size=\"14.00\">X</text>\n",
       "<text text-anchor=\"start\" x=\"249.24\" y=\"-166.94\" font-family=\"Times,serif\" baseline-shift=\"sub\" font-size=\"14.00\">3</text>\n",
       "<text text-anchor=\"start\" x=\"256.24\" y=\"-166.94\" font-family=\"Times,serif\" baseline-shift=\"super\" font-size=\"14.00\">0</text>\n",
       "</g>\n",
       "<!-- X_6^2 -->\n",
       "<g id=\"node21\" class=\"node\">\n",
       "<title>X_6^2</title>\n",
       "<ellipse fill=\"none\" stroke=\"black\" cx=\"467.24\" cy=\"-25.64\" rx=\"27\" ry=\"18\"/>\n",
       "<text text-anchor=\"start\" x=\"455.24\" y=\"-22.94\" font-family=\"Times,serif\" font-size=\"14.00\">X</text>\n",
       "<text text-anchor=\"start\" x=\"465.24\" y=\"-22.94\" font-family=\"Times,serif\" baseline-shift=\"sub\" font-size=\"14.00\">6</text>\n",
       "<text text-anchor=\"start\" x=\"472.24\" y=\"-22.94\" font-family=\"Times,serif\" baseline-shift=\"super\" font-size=\"14.00\">2</text>\n",
       "</g>\n",
       "<!-- X_3^0&#45;&gt;X_6^2 -->\n",
       "<g id=\"edge32\" class=\"edge\">\n",
       "<title>X_3^0&#45;&gt;X_6^2</title>\n",
       "<path fill=\"none\" stroke=\"#7fc97f\" d=\"M270.41,-156.86C308.75,-131.3 395.04,-73.77 439.54,-44.11\"/>\n",
       "<polygon fill=\"#7fc97f\" stroke=\"#7fc97f\" points=\"441.73,-46.85 448.11,-38.39 437.85,-41.03 441.73,-46.85\"/>\n",
       "</g>\n",
       "<!-- X_3^0&#45;&gt;X_7^2 -->\n",
       "<g id=\"edge33\" class=\"edge\">\n",
       "<title>X_3^0&#45;&gt;X_7^2</title>\n",
       "<path fill=\"none\" stroke=\"#7fc97f\" d=\"M272.88,-158.82C323.44,-133.54 449.44,-70.54 508.18,-41.17\"/>\n",
       "<polygon fill=\"#7fc97f\" stroke=\"#7fc97f\" points=\"509.96,-44.19 517.34,-36.59 506.83,-37.93 509.96,-44.19\"/>\n",
       "</g>\n",
       "<!-- X_3^1 -->\n",
       "<g id=\"node11\" class=\"node\">\n",
       "<title>X_3^1</title>\n",
       "<ellipse fill=\"none\" stroke=\"black\" cx=\"251.24\" cy=\"-97.64\" rx=\"27\" ry=\"18\"/>\n",
       "<text text-anchor=\"start\" x=\"239.24\" y=\"-94.94\" font-family=\"Times,serif\" font-size=\"14.00\">X</text>\n",
       "<text text-anchor=\"start\" x=\"249.24\" y=\"-94.94\" font-family=\"Times,serif\" baseline-shift=\"sub\" font-size=\"14.00\">3</text>\n",
       "<text text-anchor=\"start\" x=\"256.24\" y=\"-94.94\" font-family=\"Times,serif\" baseline-shift=\"super\" font-size=\"14.00\">1</text>\n",
       "</g>\n",
       "<!-- X_3^2 -->\n",
       "<g id=\"node12\" class=\"node\">\n",
       "<title>X_3^2</title>\n",
       "<ellipse fill=\"none\" stroke=\"black\" cx=\"251.24\" cy=\"-25.64\" rx=\"27\" ry=\"18\"/>\n",
       "<text text-anchor=\"start\" x=\"239.24\" y=\"-22.94\" font-family=\"Times,serif\" font-size=\"14.00\">X</text>\n",
       "<text text-anchor=\"start\" x=\"249.24\" y=\"-22.94\" font-family=\"Times,serif\" baseline-shift=\"sub\" font-size=\"14.00\">3</text>\n",
       "<text text-anchor=\"start\" x=\"256.24\" y=\"-22.94\" font-family=\"Times,serif\" baseline-shift=\"super\" font-size=\"14.00\">2</text>\n",
       "</g>\n",
       "<!-- X_3^1&#45;&gt;X_3^2 -->\n",
       "<g id=\"edge25\" class=\"edge\">\n",
       "<title>X_3^1&#45;&gt;X_3^2</title>\n",
       "<path fill=\"none\" stroke=\"#7fc97f\" d=\"M251.24,-79.47C251.24,-71.77 251.24,-62.62 251.24,-54.06\"/>\n",
       "<polygon fill=\"#7fc97f\" stroke=\"#7fc97f\" points=\"254.74,-54.05 251.24,-44.05 247.74,-54.05 254.74,-54.05\"/>\n",
       "</g>\n",
       "<!-- X_4^0 -->\n",
       "<g id=\"node13\" class=\"node\">\n",
       "<title>X_4^0</title>\n",
       "<ellipse fill=\"none\" stroke=\"black\" cx=\"323.24\" cy=\"-169.64\" rx=\"27\" ry=\"18\"/>\n",
       "<text text-anchor=\"start\" x=\"311.24\" y=\"-166.94\" font-family=\"Times,serif\" font-size=\"14.00\">X</text>\n",
       "<text text-anchor=\"start\" x=\"321.24\" y=\"-166.94\" font-family=\"Times,serif\" baseline-shift=\"sub\" font-size=\"14.00\">4</text>\n",
       "<text text-anchor=\"start\" x=\"328.24\" y=\"-166.94\" font-family=\"Times,serif\" baseline-shift=\"super\" font-size=\"14.00\">0</text>\n",
       "</g>\n",
       "<!-- X_4^0&#45;&gt;X_0^1 -->\n",
       "<g id=\"edge1\" class=\"edge\">\n",
       "<title>X_4^0&#45;&gt;X_0^1</title>\n",
       "<path fill=\"none\" stroke=\"#666666\" d=\"M297.93,-163.31C246.53,-150.46 129.77,-121.27 70.77,-106.52\"/>\n",
       "<polygon fill=\"#666666\" stroke=\"#666666\" points=\"71.35,-103.06 60.8,-104.03 69.65,-109.85 71.35,-103.06\"/>\n",
       "</g>\n",
       "<!-- X_4^0&#45;&gt;X_2^1 -->\n",
       "<g id=\"edge5\" class=\"edge\">\n",
       "<title>X_4^0&#45;&gt;X_2^1</title>\n",
       "<path fill=\"none\" stroke=\"#386cb0\" d=\"M305.96,-155.65C283.24,-141.77 242.9,-121.25 213.82,-108.53\"/>\n",
       "<polygon fill=\"#386cb0\" stroke=\"#386cb0\" points=\"215,-105.23 204.42,-104.54 212.26,-111.67 215,-105.23\"/>\n",
       "</g>\n",
       "<!-- X_4^0&#45;&gt;X_2^1 -->\n",
       "<g id=\"edge6\" class=\"edge\">\n",
       "<title>X_4^0&#45;&gt;X_2^1</title>\n",
       "<path fill=\"none\" stroke=\"#386cb0\" d=\"M298.15,-162.78C272.11,-152.07 231.64,-132 205.27,-116.81\"/>\n",
       "<polygon fill=\"#386cb0\" stroke=\"#386cb0\" points=\"206.96,-113.75 196.57,-111.67 203.4,-119.77 206.96,-113.75\"/>\n",
       "</g>\n",
       "<!-- X_4^0&#45;&gt;X_3^1 -->\n",
       "<g id=\"edge7\" class=\"edge\">\n",
       "<title>X_4^0&#45;&gt;X_3^1</title>\n",
       "<path fill=\"none\" stroke=\"#7fc97f\" d=\"M307.97,-154.37C298.04,-144.44 284.92,-131.33 273.8,-120.2\"/>\n",
       "<polygon fill=\"#7fc97f\" stroke=\"#7fc97f\" points=\"276.03,-117.48 266.49,-112.89 271.08,-122.43 276.03,-117.48\"/>\n",
       "</g>\n",
       "<!-- X_4^1 -->\n",
       "<g id=\"node14\" class=\"node\">\n",
       "<title>X_4^1</title>\n",
       "<ellipse fill=\"none\" stroke=\"black\" cx=\"323.24\" cy=\"-97.64\" rx=\"27\" ry=\"18\"/>\n",
       "<text text-anchor=\"start\" x=\"311.24\" y=\"-94.94\" font-family=\"Times,serif\" font-size=\"14.00\">X</text>\n",
       "<text text-anchor=\"start\" x=\"321.24\" y=\"-94.94\" font-family=\"Times,serif\" baseline-shift=\"sub\" font-size=\"14.00\">4</text>\n",
       "<text text-anchor=\"start\" x=\"328.24\" y=\"-94.94\" font-family=\"Times,serif\" baseline-shift=\"super\" font-size=\"14.00\">1</text>\n",
       "</g>\n",
       "<!-- X_4^0&#45;&gt;X_4^1 -->\n",
       "<g id=\"edge10\" class=\"edge\">\n",
       "<title>X_4^0&#45;&gt;X_4^1</title>\n",
       "<path fill=\"none\" stroke=\"#666666\" d=\"M323.24,-151.47C323.24,-143.77 323.24,-134.62 323.24,-126.06\"/>\n",
       "<polygon fill=\"#666666\" stroke=\"#666666\" points=\"326.74,-126.05 323.24,-116.05 319.74,-126.05 326.74,-126.05\"/>\n",
       "</g>\n",
       "<!-- X_8^1 -->\n",
       "<g id=\"node26\" class=\"node\">\n",
       "<title>X_8^1</title>\n",
       "<ellipse fill=\"none\" stroke=\"black\" cx=\"611.24\" cy=\"-97.64\" rx=\"27\" ry=\"18\"/>\n",
       "<text text-anchor=\"start\" x=\"599.24\" y=\"-94.94\" font-family=\"Times,serif\" font-size=\"14.00\">X</text>\n",
       "<text text-anchor=\"start\" x=\"609.24\" y=\"-94.94\" font-family=\"Times,serif\" baseline-shift=\"sub\" font-size=\"14.00\">8</text>\n",
       "<text text-anchor=\"start\" x=\"616.24\" y=\"-94.94\" font-family=\"Times,serif\" baseline-shift=\"super\" font-size=\"14.00\">1</text>\n",
       "</g>\n",
       "<!-- X_4^0&#45;&gt;X_8^1 -->\n",
       "<g id=\"edge17\" class=\"edge\">\n",
       "<title>X_4^0&#45;&gt;X_8^1</title>\n",
       "<path fill=\"none\" stroke=\"#7fc97f\" d=\"M350.04,-167.13C403.09,-157.39 521.31,-128 578.72,-110.44\"/>\n",
       "<polygon fill=\"#7fc97f\" stroke=\"#7fc97f\" points=\"579.88,-113.74 588.37,-107.41 577.78,-107.06 579.88,-113.74\"/>\n",
       "</g>\n",
       "<!-- X_4^0&#45;&gt;X_8^1 -->\n",
       "<g id=\"edge18\" class=\"edge\">\n",
       "<title>X_4^0&#45;&gt;X_8^1</title>\n",
       "<path fill=\"none\" stroke=\"#7fc97f\" d=\"M346.34,-159.8C396.23,-143.72 514.34,-113.96 574.56,-102.04\"/>\n",
       "<polygon fill=\"#7fc97f\" stroke=\"#7fc97f\" points=\"575.25,-105.47 584.41,-100.16 573.93,-98.6 575.25,-105.47\"/>\n",
       "</g>\n",
       "<!-- X_4^2 -->\n",
       "<g id=\"node15\" class=\"node\">\n",
       "<title>X_4^2</title>\n",
       "<ellipse fill=\"none\" stroke=\"black\" cx=\"323.24\" cy=\"-25.64\" rx=\"27\" ry=\"18\"/>\n",
       "<text text-anchor=\"start\" x=\"311.24\" y=\"-22.94\" font-family=\"Times,serif\" font-size=\"14.00\">X</text>\n",
       "<text text-anchor=\"start\" x=\"321.24\" y=\"-22.94\" font-family=\"Times,serif\" baseline-shift=\"sub\" font-size=\"14.00\">4</text>\n",
       "<text text-anchor=\"start\" x=\"328.24\" y=\"-22.94\" font-family=\"Times,serif\" baseline-shift=\"super\" font-size=\"14.00\">2</text>\n",
       "</g>\n",
       "<!-- X_5^0 -->\n",
       "<g id=\"node16\" class=\"node\">\n",
       "<title>X_5^0</title>\n",
       "<ellipse fill=\"none\" stroke=\"black\" cx=\"395.24\" cy=\"-169.64\" rx=\"27\" ry=\"18\"/>\n",
       "<text text-anchor=\"start\" x=\"383.24\" y=\"-166.94\" font-family=\"Times,serif\" font-size=\"14.00\">X</text>\n",
       "<text text-anchor=\"start\" x=\"393.24\" y=\"-166.94\" font-family=\"Times,serif\" baseline-shift=\"sub\" font-size=\"14.00\">5</text>\n",
       "<text text-anchor=\"start\" x=\"400.24\" y=\"-166.94\" font-family=\"Times,serif\" baseline-shift=\"super\" font-size=\"14.00\">0</text>\n",
       "</g>\n",
       "<!-- X_5^1&#45;&gt;X_4^2 -->\n",
       "<g id=\"edge27\" class=\"edge\">\n",
       "<title>X_5^1&#45;&gt;X_4^2</title>\n",
       "<path fill=\"none\" stroke=\"#386cb0\" d=\"M379.97,-82.37C370.04,-72.44 356.92,-59.33 345.8,-48.2\"/>\n",
       "<polygon fill=\"#386cb0\" stroke=\"#386cb0\" points=\"348.03,-45.48 338.49,-40.89 343.08,-50.43 348.03,-45.48\"/>\n",
       "</g>\n",
       "<!-- X_5^1&#45;&gt;X_6^2 -->\n",
       "<g id=\"edge31\" class=\"edge\">\n",
       "<title>X_5^1&#45;&gt;X_6^2</title>\n",
       "<path fill=\"none\" stroke=\"#7fc97f\" d=\"M410.51,-82.37C420.44,-72.44 433.55,-59.33 444.67,-48.2\"/>\n",
       "<polygon fill=\"#7fc97f\" stroke=\"#7fc97f\" points=\"447.39,-50.43 451.99,-40.89 442.44,-45.48 447.39,-50.43\"/>\n",
       "</g>\n",
       "<!-- X_5^1&#45;&gt;X_8^2 -->\n",
       "<g id=\"edge35\" class=\"edge\">\n",
       "<title>X_5^1&#45;&gt;X_8^2</title>\n",
       "<path fill=\"none\" stroke=\"#7fc97f\" d=\"M419.6,-89.52C458.19,-76.66 533.48,-51.56 577.33,-36.94\"/>\n",
       "<polygon fill=\"#7fc97f\" stroke=\"#7fc97f\" points=\"578.59,-40.21 586.97,-33.73 576.38,-33.57 578.59,-40.21\"/>\n",
       "</g>\n",
       "<!-- X_6^0 -->\n",
       "<g id=\"node19\" class=\"node\">\n",
       "<title>X_6^0</title>\n",
       "<ellipse fill=\"none\" stroke=\"black\" cx=\"467.24\" cy=\"-169.64\" rx=\"27\" ry=\"18\"/>\n",
       "<text text-anchor=\"start\" x=\"455.24\" y=\"-166.94\" font-family=\"Times,serif\" font-size=\"14.00\">X</text>\n",
       "<text text-anchor=\"start\" x=\"465.24\" y=\"-166.94\" font-family=\"Times,serif\" baseline-shift=\"sub\" font-size=\"14.00\">6</text>\n",
       "<text text-anchor=\"start\" x=\"472.24\" y=\"-166.94\" font-family=\"Times,serif\" baseline-shift=\"super\" font-size=\"14.00\">0</text>\n",
       "</g>\n",
       "<!-- X_6^0&#45;&gt;X_1^1 -->\n",
       "<g id=\"edge3\" class=\"edge\">\n",
       "<title>X_6^0&#45;&gt;X_1^1</title>\n",
       "<path fill=\"none\" stroke=\"#386cb0\" d=\"M443.21,-161.13C381.75,-144.83 218.53,-111.97 144.58,-100.75\"/>\n",
       "<polygon fill=\"#386cb0\" stroke=\"#386cb0\" points=\"144.74,-97.24 134.34,-99.26 143.73,-104.16 144.74,-97.24\"/>\n",
       "</g>\n",
       "<!-- X_6^0&#45;&gt;X_1^1 -->\n",
       "<g id=\"edge4\" class=\"edge\">\n",
       "<title>X_6^0&#45;&gt;X_1^1</title>\n",
       "<path fill=\"none\" stroke=\"#386cb0\" d=\"M440.33,-168.05C375.72,-159.09 211.98,-126.5 140.96,-108.65\"/>\n",
       "<polygon fill=\"#386cb0\" stroke=\"#386cb0\" points=\"141.73,-105.23 131.17,-106.13 139.98,-112.01 141.73,-105.23\"/>\n",
       "</g>\n",
       "<!-- X_6^1&#45;&gt;X_0^2 -->\n",
       "<g id=\"edge20\" class=\"edge\">\n",
       "<title>X_6^1&#45;&gt;X_0^2</title>\n",
       "<path fill=\"none\" stroke=\"#666666\" d=\"M440.86,-93.25C366.74,-80.89 156.44,-45.84 71.5,-31.68\"/>\n",
       "<polygon fill=\"#666666\" stroke=\"#666666\" points=\"71.98,-28.22 61.54,-30.02 70.83,-35.12 71.98,-28.22\"/>\n",
       "</g>\n",
       "<!-- X_7^0 -->\n",
       "<g id=\"node22\" class=\"node\">\n",
       "<title>X_7^0</title>\n",
       "<ellipse fill=\"none\" stroke=\"black\" cx=\"539.24\" cy=\"-169.64\" rx=\"27\" ry=\"18\"/>\n",
       "<text text-anchor=\"start\" x=\"527.24\" y=\"-166.94\" font-family=\"Times,serif\" font-size=\"14.00\">X</text>\n",
       "<text text-anchor=\"start\" x=\"537.24\" y=\"-166.94\" font-family=\"Times,serif\" baseline-shift=\"sub\" font-size=\"14.00\">7</text>\n",
       "<text text-anchor=\"start\" x=\"544.24\" y=\"-166.94\" font-family=\"Times,serif\" baseline-shift=\"super\" font-size=\"14.00\">0</text>\n",
       "</g>\n",
       "<!-- X_7^0&#45;&gt;X_4^1 -->\n",
       "<g id=\"edge9\" class=\"edge\">\n",
       "<title>X_7^0&#45;&gt;X_4^1</title>\n",
       "<path fill=\"none\" stroke=\"#666666\" d=\"M514.88,-161.52C476.29,-148.66 400.99,-123.56 357.15,-108.94\"/>\n",
       "<polygon fill=\"#666666\" stroke=\"#666666\" points=\"358.1,-105.57 347.51,-105.73 355.89,-112.21 358.1,-105.57\"/>\n",
       "</g>\n",
       "<!-- X_7^0&#45;&gt;X_4^2 -->\n",
       "<g id=\"edge28\" class=\"edge\">\n",
       "<title>X_7^0&#45;&gt;X_4^2</title>\n",
       "<path fill=\"none\" stroke=\"#386cb0\" d=\"M520.07,-156.86C481.72,-131.3 395.43,-73.77 350.94,-44.11\"/>\n",
       "<polygon fill=\"#386cb0\" stroke=\"#386cb0\" points=\"352.63,-41.03 342.36,-38.39 348.74,-46.85 352.63,-41.03\"/>\n",
       "</g>\n",
       "<!-- X_7^0&#45;&gt;X_5^1 -->\n",
       "<g id=\"edge12\" class=\"edge\">\n",
       "<title>X_7^0&#45;&gt;X_5^1</title>\n",
       "<path fill=\"none\" stroke=\"#666666\" d=\"M517.37,-158.71C493.02,-146.53 453.48,-126.76 426.01,-113.03\"/>\n",
       "<polygon fill=\"#666666\" stroke=\"#666666\" points=\"427.35,-109.78 416.84,-108.44 424.22,-116.05 427.35,-109.78\"/>\n",
       "</g>\n",
       "<!-- X_7^0&#45;&gt;X_5^2 -->\n",
       "<g id=\"edge29\" class=\"edge\">\n",
       "<title>X_7^0&#45;&gt;X_5^2</title>\n",
       "<path fill=\"none\" stroke=\"#666666\" d=\"M524.1,-154.5C498.78,-129.18 447.7,-78.1 418.02,-48.42\"/>\n",
       "<polygon fill=\"#666666\" stroke=\"#666666\" points=\"420.15,-45.61 410.61,-41.01 415.2,-50.56 420.15,-45.61\"/>\n",
       "</g>\n",
       "<!-- X_7^0&#45;&gt;X_6^1 -->\n",
       "<g id=\"edge14\" class=\"edge\">\n",
       "<title>X_7^0&#45;&gt;X_6^1</title>\n",
       "<path fill=\"none\" stroke=\"#666666\" d=\"M523.97,-154.37C514.04,-144.44 500.92,-131.33 489.8,-120.2\"/>\n",
       "<polygon fill=\"#666666\" stroke=\"#666666\" points=\"492.03,-117.48 482.49,-112.89 487.08,-122.43 492.03,-117.48\"/>\n",
       "</g>\n",
       "<!-- X_7^0&#45;&gt;X_7^1 -->\n",
       "<g id=\"edge15\" class=\"edge\">\n",
       "<title>X_7^0&#45;&gt;X_7^1</title>\n",
       "<path fill=\"none\" stroke=\"#666666\" d=\"M539.24,-151.47C539.24,-143.77 539.24,-134.62 539.24,-126.06\"/>\n",
       "<polygon fill=\"#666666\" stroke=\"#666666\" points=\"542.74,-126.05 539.24,-116.05 535.74,-126.05 542.74,-126.05\"/>\n",
       "</g>\n",
       "<!-- X_7^1&#45;&gt;X_2^2 -->\n",
       "<g id=\"edge24\" class=\"edge\">\n",
       "<title>X_7^1&#45;&gt;X_2^2</title>\n",
       "<path fill=\"none\" stroke=\"#666666\" d=\"M513.35,-92.46C450.19,-79.83 288.09,-47.41 215.43,-32.88\"/>\n",
       "<polygon fill=\"#666666\" stroke=\"#666666\" points=\"215.87,-29.4 205.38,-30.87 214.5,-36.26 215.87,-29.4\"/>\n",
       "</g>\n",
       "<!-- X_8^0 -->\n",
       "<g id=\"node25\" class=\"node\">\n",
       "<title>X_8^0</title>\n",
       "<ellipse fill=\"none\" stroke=\"black\" cx=\"611.24\" cy=\"-169.64\" rx=\"27\" ry=\"18\"/>\n",
       "<text text-anchor=\"start\" x=\"599.24\" y=\"-166.94\" font-family=\"Times,serif\" font-size=\"14.00\">X</text>\n",
       "<text text-anchor=\"start\" x=\"609.24\" y=\"-166.94\" font-family=\"Times,serif\" baseline-shift=\"sub\" font-size=\"14.00\">8</text>\n",
       "<text text-anchor=\"start\" x=\"616.24\" y=\"-166.94\" font-family=\"Times,serif\" baseline-shift=\"super\" font-size=\"14.00\">0</text>\n",
       "</g>\n",
       "<!-- X_8^0&#45;&gt;X_1^2 -->\n",
       "<g id=\"edge21\" class=\"edge\">\n",
       "<title>X_8^0&#45;&gt;X_1^2</title>\n",
       "<path fill=\"none\" stroke=\"#7fc97f\" d=\"M588.45,-159.94C508.63,-132.24 241.35,-55.67 143.51,-32.2\"/>\n",
       "<polygon fill=\"#7fc97f\" stroke=\"#7fc97f\" points=\"144.31,-28.79 133.78,-29.91 142.71,-35.61 144.31,-28.79\"/>\n",
       "</g>\n",
       "<!-- X_8^0&#45;&gt;X_1^2 -->\n",
       "<g id=\"edge22\" class=\"edge\">\n",
       "<title>X_8^0&#45;&gt;X_1^2</title>\n",
       "<path fill=\"none\" stroke=\"#7fc97f\" d=\"M584.68,-165.37C499.41,-145.81 232.83,-69.78 139.72,-38.64\"/>\n",
       "<polygon fill=\"#7fc97f\" stroke=\"#7fc97f\" points=\"140.84,-35.33 130.25,-35.42 138.59,-41.96 140.84,-35.33\"/>\n",
       "</g>\n",
       "<!-- X_8^0&#45;&gt;X_3^1 -->\n",
       "<g id=\"edge8\" class=\"edge\">\n",
       "<title>X_8^0&#45;&gt;X_3^1</title>\n",
       "<path fill=\"none\" stroke=\"#7fc97f\" d=\"M585.35,-164.46C522.19,-151.83 360.09,-119.41 287.43,-104.88\"/>\n",
       "<polygon fill=\"#7fc97f\" stroke=\"#7fc97f\" points=\"287.87,-101.4 277.38,-102.87 286.5,-108.26 287.87,-101.4\"/>\n",
       "</g>\n",
       "<!-- X_8^1&#45;&gt;X_2^2 -->\n",
       "<g id=\"edge23\" class=\"edge\">\n",
       "<title>X_8^1&#45;&gt;X_2^2</title>\n",
       "<path fill=\"none\" stroke=\"#666666\" d=\"M584.86,-93.25C510.74,-80.89 300.44,-45.84 215.5,-31.68\"/>\n",
       "<polygon fill=\"#666666\" stroke=\"#666666\" points=\"215.98,-28.22 205.54,-30.02 214.83,-35.12 215.98,-28.22\"/>\n",
       "</g>\n",
       "<!-- X_8^1&#45;&gt;X_3^2 -->\n",
       "<g id=\"edge26\" class=\"edge\">\n",
       "<title>X_8^1&#45;&gt;X_3^2</title>\n",
       "<path fill=\"none\" stroke=\"#7fc97f\" d=\"M585.35,-92.46C522.19,-79.83 360.09,-47.41 287.43,-32.88\"/>\n",
       "<polygon fill=\"#7fc97f\" stroke=\"#7fc97f\" points=\"287.87,-29.4 277.38,-30.87 286.5,-36.26 287.87,-29.4\"/>\n",
       "</g>\n",
       "</g>\n",
       "</svg>\n"
      ],
      "text/plain": [
       "<graphviz.graphs.Digraph at 0x7eff9b321280>"
      ]
     },
     "execution_count": 48,
     "metadata": {},
     "output_type": "execute_result"
    }
   ],
   "source": [
    "plot_yisong_process2(params)"
   ]
  },
  {
   "cell_type": "markdown",
   "id": "1b45d663",
   "metadata": {},
   "source": [
    "## Causality"
   ]
  },
  {
   "cell_type": "markdown",
   "id": "2261a136",
   "metadata": {},
   "source": [
    "Inference on a Yisong Process will produce a posterior over possible model structures that could have produced the given observations. We can use this posterior to ask questions about whether one variable \"causes\" another.\n",
    "\n",
    "One way to interpret the question \"Does $A$ cause $B$?\" is \"Is there a directed path between $A$ and $B$ in the true model?\". We can represent this random indicator variable, called the *causal effect*, as $Q$. \n",
    "\n",
    "A more conventional interpretation of the question is \"Would setting the variable $A$ to $c$ lead us to observe different values of $B$?\" Specifically, assuming we observe $N$ samples of variable $B$, we let the causal effect $Q = \\frac{1}{N}\\sum_{i=1}^N B_i - B_i'$, where $B'$ is the variable given the intervention.\n",
    "\n",
    "To find a posterior on $Q$, we can sample structures from the Yisong Process posterior and compute the value of $Q$ on each sample. If these samples are concentrated around $0$, we can be confident that there's no causal link. If the posterior is concentrated at a higher value, we can be confident that a causal link exits. But if we get a diffuse prior, we know that we need more data before we can make any kind of conclusion. "
   ]
  },
  {
   "cell_type": "markdown",
   "id": "f0cfd90c",
   "metadata": {},
   "source": [
    "## Variational Inference"
   ]
  },
  {
   "cell_type": "markdown",
   "id": "5704e40b",
   "metadata": {},
   "source": [
    "I think hand tuned RJMH with proposal distributions informed by the progam synthesis world will work better than variational inference. But here's a baseline."
   ]
  },
  {
   "cell_type": "code",
   "execution_count": 12,
   "id": "7e9e1364",
   "metadata": {
    "ExecuteTime": {
     "end_time": "2021-11-17T19:46:14.916253Z",
     "start_time": "2021-11-17T19:46:14.891928Z"
    }
   },
   "outputs": [],
   "source": [
    "def guide(data):  \n",
    "    T, M = data.shape\n",
    "    N = (T-1) * M\n",
    "    gamma_post = pyro.param('γ_post', lambda: dist.Uniform(0, 2).sample([G-1]), constraint=constraints.positive)\n",
    "    alpha_post = pyro.param('α_post', lambda: dist.Uniform(0, 2).sample([T-2]), constraint=constraints.positive)\n",
    "    z_prior = pyro.param('z_prior', lambda: dist.Dirichlet(torch.ones(G)).sample([N]), constraint=constraints.simplex)\n",
    "    \n",
    "    ts = [pyro.param(f\"ts{i}\", lambda: dist.Dirichlet(torch.ones(i+1)).sample([A, M]), constraint=constraints.simplex) for i in range(T-1)]\n",
    "    time_stack = [F.pad(ts[i], (0, T - i - 1)) for i in range(T-1)]\n",
    "    time_weights = torch.stack(time_stack, dim=-2).view(A, N, T)\n",
    "\n",
    "    theta_post = pyro.param('theta_prior',\n",
    "      lambda: dist.Dirichlet(torch.ones(M)).sample([G]), constraint=constraints.simplex)\n",
    "    arg_weights = pyro.param('arg_weights',\n",
    "      lambda: dist.Dirichlet(torch.ones(M)).sample([A, N]), constraint=constraints.simplex)\n",
    "    \n",
    "    with pyro.plate(\"Beta\", G-1):\n",
    "        beta = pyro.sample(\"beta\", dist.Beta(1, gamma_post))\n",
    "    obs = pyro.plate(\"obs\", N, dim=-1)\n",
    "    with obs:\n",
    "        z = pyro.sample(\"z\", dist.Categorical(z_prior))\n",
    "    with pyro.plate(\"Beta2\", T - 2):\n",
    "        arg_beta = pyro.sample(\"beta2\", dist.Beta(1, alpha_post))\n",
    "    with pyro.plate(\"functions\", G):\n",
    "        θ = pyro.sample(\"θ\", dist.Delta(theta_post).to_event(1))\n",
    "    with obs:\n",
    "        with pyro.plate(\"nth_arg\", A):\n",
    "            pyro.sample(\"a\", dist.Categorical(time_weights))\n",
    "            pyro.sample(\"b\", dist.Categorical(arg_weights))"
   ]
  },
  {
   "cell_type": "code",
   "execution_count": null,
   "id": "fb7763d8",
   "metadata": {
    "ExecuteTime": {
     "end_time": "2021-11-17T19:47:01.611052Z",
     "start_time": "2021-11-17T19:46:59.681862Z"
    }
   },
   "outputs": [],
   "source": [
    "pyro.clear_param_store()\n",
    "elbo = Trace_ELBO(num_particles=100, vectorize_particles=True, max_plate_nesting=2)\n",
    "optimizer = Adam({\"lr\": 1e-3, \"betas\": (0.90, 0.999)})\n",
    "svi = SVI(likelihood, guide, optimizer, loss=elbo)\n",
    "for epoch in range(80):\n",
    "    loss = svi.step(data)\n",
    "    print(loss)"
   ]
  },
  {
   "cell_type": "markdown",
   "id": "1ba64b9c",
   "metadata": {},
   "source": [
    "## Applications"
   ]
  },
  {
   "cell_type": "markdown",
   "id": "78c7a191",
   "metadata": {},
   "source": [
    "- Mouse behavior? This was something Yisong mentioned at the last meeting, but didn't go into detail. My understanding is that past mouse-behavior patterns might influence future mouse-behavior patterns in a non-Markovian way, and this technique might capture that."
   ]
  },
  {
   "cell_type": "markdown",
   "id": "a0d2228d",
   "metadata": {},
   "source": [
    "- Cell development? Say we look at single cell RNA sequencing data over the course of cell differentiation. We see what genes are being expressed at each point in time. The 'functions' we find will show how genes interact to inhibit or accelerate the expression of other genes. The problem with this is that there may not be much to be gained from it being non-Markovian. The non-Markovian assumption really means that there's some latent variable that gets influenced in a previous timestep by something we can observe. But with SSRNAseq, we observe everything. So this technique might be unnecessarily complicated. But perhaps we do it at a coarser level: the presence or absence of certain key signifiers in the observed mRNA at each step. Doing inference with ALL the data would probably be intractable anyway, so focusing on a coarsening would make sense."
   ]
  },
  {
   "cell_type": "markdown",
   "id": "49b096a0",
   "metadata": {},
   "source": [
    "- Language models? This thing feels an awful lot like a transformer, so we might take inspiration from the nlp world. What if the variables at each step are the vector embeddings of a word, and time is the order of words? Here, we'd allow the variable at time $t$ to draw from variables at times $<t$ and $>t$. The results might be nicely interpretable. "
   ]
  },
  {
   "cell_type": "markdown",
   "id": "60fe0036",
   "metadata": {},
   "source": [
    "- Patient records? Say we observe patient data over time. We might be able to derive causal relationships about how medical conditions develop over time. This data would likely be extremely sparse, so gaussian processes wouldn't be a great fit; you can't find distances between points with unknown coordinates. Contingency tables, on the other hand, would make it easy to marginalize over missing observations. "
   ]
  }
 ],
 "metadata": {
  "kernelspec": {
   "display_name": "Python 3 (ipykernel)",
   "language": "python",
   "name": "python3"
  },
  "language_info": {
   "codemirror_mode": {
    "name": "ipython",
    "version": 3
   },
   "file_extension": ".py",
   "mimetype": "text/x-python",
   "name": "python",
   "nbconvert_exporter": "python",
   "pygments_lexer": "ipython3",
   "version": "3.9.7"
  }
 },
 "nbformat": 4,
 "nbformat_minor": 5
}
